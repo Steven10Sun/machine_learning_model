{
 "cells": [
  {
   "cell_type": "markdown",
   "id": "e2289c00-c78f-4b01-a64e-0a43ef5687b6",
   "metadata": {},
   "source": [
    "# Neural Network"
   ]
  },
  {
   "cell_type": "markdown",
   "id": "c273e808-a840-4837-9f2b-12f5b0bffc44",
   "metadata": {},
   "source": [
    "### Forward propagation\n",
    "$x_i$ = input layer<br>\n",
    "$w_i$ = weights<br>\n",
    "$b$ = bias<br>\n",
    "$z$ = hidden layer<br>\n",
    "$f(z)$ = activation<br>\n",
    "\n",
    "$z = \\sum\\limits_{i=1}^{n}x_iw_i + b$<br>\n",
    "Given Sigmoid as activation function: $f(H) = \\frac{1}{1+e^{-z}}$\n",
    "\n",
    "**Remark**<br>\n",
    "$w_i$ for b is 1<br>\n",
    "Which activation function to choose depends on the prediction output: number/category<br>\n",
    "If numerical output, MSE loss function will be used, reLU, linear(Identity) activation will be used.<br>\n",
    "If categorical output, cross entropy loss function will be used, sigmoid, tanh, softmax (non linear) activation function will be used.\n",
    "\n",
    "\n",
    "\n",
    "### Back propagation\n",
    "incrementally tweaking the network’s weights until the lowest possible cost value is obtained.\n",
    "\n",
    "### Partial derivative for $w_i$: $\\frac{\\partial C}{\\partial w_i} = \\frac{\\partial C}{\\partial \\hat{y}} * \\frac{\\partial \\hat{y}}{\\partial z} * \\frac{\\partial z}{\\partial w_i}$\n",
    "\n",
    "1. $\\frac{\\partial C}{\\partial \\hat{y}} = \\frac{\\partial}{\\partial \\hat{y}}\\frac{1}{n}\\sum\\limits_{i=1}^{n}(y_i-\\hat{y_i})^2 = \\frac{2}{n}\\sum\\limits_{1=1}^{n}(y_i-\\hat{y_i})$\n",
    "\n",
    "2. Given $\\sigma$ = Sigmoid function (different activation function has different derivative below)\n",
    "\n",
    "3. $\\frac{\\partial \\hat{y}}{\\partial z} = \\frac{\\partial}{\\partial z}\\sigma(z) = \\sigma(z) * (1-\\sigma(z)) $\n",
    "\n",
    "4. $\\frac{\\partial z}{\\partial w_i} = \\frac{\\partial}{\\partial w_i}\\sum\\limits_{i=1}^{n}x_iw_i+b = x_i$\n",
    "\n",
    "### $\\frac{\\partial C}{\\partial w_i} = \\frac{2}{n} * \\sum\\limits_{i=1}^{n}(y_i - \\hat{y_i}) * \\sigma(z) * (1-\\sigma(z)) * x_i$\n",
    "\n",
    "### Partial derivative for $b$\n",
    "### $\\frac{\\partial C}{\\partial b} = \\frac{2}{n} * \\sum\\limits_{i=1}^{n}(y_i-\\hat{y_i}) * \\sigma(z) * (1-\\sigma(z))$"
   ]
  },
  {
   "cell_type": "markdown",
   "id": "721c2a1f-a631-4637-930e-f09d6dc7b484",
   "metadata": {},
   "source": [
    "# Cost Function\n",
    "##### MSE = $\\frac{1}{n}\\sum\\limits_{i=1}^{n}(y_i - \\hat{y_i})^2$\n",
    "\n",
    "##### Cross entropy = Sigmoid, etc"
   ]
  },
  {
   "cell_type": "markdown",
   "id": "b597659c-49a8-45d6-a98e-907cddcb5f49",
   "metadata": {},
   "source": [
    "### learning algorithm\n",
    "1. Start with values (often random) for the network parameters (wij weights and bj biases).\n",
    "2. Take a set of examples of input data and pass them through the network to obtain their prediction.\n",
    "3. Compare these predictions obtained with the values of expected labels and calculate the loss with them.\n",
    "4. Perform the backpropagation in order to propagate this loss to each and every one of the parameters that make up the model of the neural network.\n",
    "5. Use this propagated information to update the parameters of the neural network with the gradient descent in a way that the total loss is reduced and a better model is obtained.\n",
    "6. Continue iterating in the previous steps until we consider that we have a good model."
   ]
  },
  {
   "cell_type": "code",
   "execution_count": 57,
   "id": "980ee795-30a8-4d29-b4ce-3ec3a8a00d0e",
   "metadata": {},
   "outputs": [],
   "source": [
    "import numpy as np\n",
    "import matplotlib.pyplot as plt\n",
    "import tensorflow as tf\n",
    "import pandas as pd\n",
    "np.set_printoptions(suppress=True)"
   ]
  },
  {
   "cell_type": "code",
   "execution_count": 197,
   "id": "a42ec622-66ca-4ff0-a3bf-e68ca42642f9",
   "metadata": {},
   "outputs": [
    {
     "data": {
      "text/html": [
       "<div>\n",
       "<style scoped>\n",
       "    .dataframe tbody tr th:only-of-type {\n",
       "        vertical-align: middle;\n",
       "    }\n",
       "\n",
       "    .dataframe tbody tr th {\n",
       "        vertical-align: top;\n",
       "    }\n",
       "\n",
       "    .dataframe thead th {\n",
       "        text-align: right;\n",
       "    }\n",
       "</style>\n",
       "<table border=\"1\" class=\"dataframe\">\n",
       "  <thead>\n",
       "    <tr style=\"text-align: right;\">\n",
       "      <th></th>\n",
       "      <th>LotArea</th>\n",
       "      <th>OverallQual</th>\n",
       "      <th>OverallCond</th>\n",
       "      <th>TotalBsmtSF</th>\n",
       "      <th>FullBath</th>\n",
       "      <th>HalfBath</th>\n",
       "      <th>BedroomAbvGr</th>\n",
       "      <th>TotRmsAbvGrd</th>\n",
       "      <th>Fireplaces</th>\n",
       "      <th>GarageArea</th>\n",
       "      <th>AboveMedianPrice</th>\n",
       "    </tr>\n",
       "  </thead>\n",
       "  <tbody>\n",
       "    <tr>\n",
       "      <th>0</th>\n",
       "      <td>8450</td>\n",
       "      <td>7</td>\n",
       "      <td>5</td>\n",
       "      <td>856</td>\n",
       "      <td>2</td>\n",
       "      <td>1</td>\n",
       "      <td>3</td>\n",
       "      <td>8</td>\n",
       "      <td>0</td>\n",
       "      <td>548</td>\n",
       "      <td>1</td>\n",
       "    </tr>\n",
       "    <tr>\n",
       "      <th>1</th>\n",
       "      <td>9600</td>\n",
       "      <td>6</td>\n",
       "      <td>8</td>\n",
       "      <td>1262</td>\n",
       "      <td>2</td>\n",
       "      <td>0</td>\n",
       "      <td>3</td>\n",
       "      <td>6</td>\n",
       "      <td>1</td>\n",
       "      <td>460</td>\n",
       "      <td>1</td>\n",
       "    </tr>\n",
       "    <tr>\n",
       "      <th>2</th>\n",
       "      <td>11250</td>\n",
       "      <td>7</td>\n",
       "      <td>5</td>\n",
       "      <td>920</td>\n",
       "      <td>2</td>\n",
       "      <td>1</td>\n",
       "      <td>3</td>\n",
       "      <td>6</td>\n",
       "      <td>1</td>\n",
       "      <td>608</td>\n",
       "      <td>1</td>\n",
       "    </tr>\n",
       "    <tr>\n",
       "      <th>3</th>\n",
       "      <td>9550</td>\n",
       "      <td>7</td>\n",
       "      <td>5</td>\n",
       "      <td>756</td>\n",
       "      <td>1</td>\n",
       "      <td>0</td>\n",
       "      <td>3</td>\n",
       "      <td>7</td>\n",
       "      <td>1</td>\n",
       "      <td>642</td>\n",
       "      <td>0</td>\n",
       "    </tr>\n",
       "    <tr>\n",
       "      <th>4</th>\n",
       "      <td>14260</td>\n",
       "      <td>8</td>\n",
       "      <td>5</td>\n",
       "      <td>1145</td>\n",
       "      <td>2</td>\n",
       "      <td>1</td>\n",
       "      <td>4</td>\n",
       "      <td>9</td>\n",
       "      <td>1</td>\n",
       "      <td>836</td>\n",
       "      <td>1</td>\n",
       "    </tr>\n",
       "  </tbody>\n",
       "</table>\n",
       "</div>"
      ],
      "text/plain": [
       "   LotArea  OverallQual  OverallCond  TotalBsmtSF  FullBath  HalfBath  \\\n",
       "0     8450            7            5          856         2         1   \n",
       "1     9600            6            8         1262         2         0   \n",
       "2    11250            7            5          920         2         1   \n",
       "3     9550            7            5          756         1         0   \n",
       "4    14260            8            5         1145         2         1   \n",
       "\n",
       "   BedroomAbvGr  TotRmsAbvGrd  Fireplaces  GarageArea  AboveMedianPrice  \n",
       "0             3             8           0         548                 1  \n",
       "1             3             6           1         460                 1  \n",
       "2             3             6           1         608                 1  \n",
       "3             3             7           1         642                 0  \n",
       "4             4             9           1         836                 1  "
      ]
     },
     "execution_count": 197,
     "metadata": {},
     "output_type": "execute_result"
    }
   ],
   "source": [
    "df = pd.read_csv('housepricedata.csv')\n",
    "dataset = df.values\n",
    "X = dataset[:, :-1]\n",
    "y = dataset[:, -1]\n",
    "df.head()"
   ]
  },
  {
   "cell_type": "markdown",
   "id": "822fedae-62a8-4593-93fa-605c2669cf81",
   "metadata": {
    "jp-MarkdownHeadingCollapsed": true,
    "tags": []
   },
   "source": [
    "### Activation function"
   ]
  },
  {
   "cell_type": "code",
   "execution_count": null,
   "id": "802571c2-d8b6-4331-81e3-1c5043dba59d",
   "metadata": {},
   "outputs": [],
   "source": [
    "def linear(z):\n",
    "    pass z"
   ]
  },
  {
   "cell_type": "code",
   "execution_count": 38,
   "id": "a51a6a40-a29c-4512-a78d-e759be4d391f",
   "metadata": {},
   "outputs": [],
   "source": [
    "def sigmoid(z):\n",
    "    return 1 / (1+np.exp(-z))"
   ]
  },
  {
   "cell_type": "code",
   "execution_count": 43,
   "id": "112c0481-298d-410f-8905-3bea371a28bc",
   "metadata": {},
   "outputs": [],
   "source": [
    "def tanh(z):\n",
    "    pass"
   ]
  },
  {
   "cell_type": "code",
   "execution_count": 2,
   "id": "23c2e0a8-71f7-4dbe-a216-c9e32eba943a",
   "metadata": {},
   "outputs": [],
   "source": [
    "def softmax(X):\n",
    "    pass"
   ]
  },
  {
   "cell_type": "code",
   "execution_count": 40,
   "id": "513a86b7-fbe3-4b15-a912-a95409d3efb0",
   "metadata": {},
   "outputs": [],
   "source": [
    "def relu(z):\n",
    "    return max(0, z)"
   ]
  },
  {
   "cell_type": "markdown",
   "id": "77c5c7bf-7b86-436b-bef3-d2ca79b2fdeb",
   "metadata": {},
   "source": [
    "### Activation"
   ]
  },
  {
   "cell_type": "code",
   "execution_count": 31,
   "id": "700dfa3c-b9a3-4ad6-82b0-e2ea62c71a97",
   "metadata": {},
   "outputs": [],
   "source": [
    "def Dense(a_in, W, b):\n",
    "    units = W.shape[1]    \n",
    "    a_out = np.zeros(units)\n",
    "    \n",
    "    for i in range(units):\n",
    "        z = np.dot(W[:, i], a_in) + b[i]    \n",
    "        a_out = sigmoid(z)\n",
    "    return a_out"
   ]
  },
  {
   "cell_type": "markdown",
   "id": "3fabac83-7a7e-4e15-9bdc-4669679b2c92",
   "metadata": {},
   "source": [
    "### Number of layer"
   ]
  },
  {
   "cell_type": "code",
   "execution_count": 32,
   "id": "57f52b33-6064-4895-8d92-621882cd9a15",
   "metadata": {},
   "outputs": [],
   "source": [
    "def Sequential(x, W1, b1, W2, b2):\n",
    "    a1 = Dense(x, W1, b1)\n",
    "    a2 = Dense(a1, W2, b2)\n",
    "    return a2"
   ]
  },
  {
   "cell_type": "markdown",
   "id": "684b81e8-2bdd-4f81-a0dc-a1d74d14aea7",
   "metadata": {},
   "source": [
    "### Prediction"
   ]
  },
  {
   "cell_type": "code",
   "execution_count": 33,
   "id": "97eec192-4bbb-4c62-98e1-38dbe1ccdf3b",
   "metadata": {},
   "outputs": [],
   "source": [
    "def Predict(X, W1, b1, W2, b2):\n",
    "    m = X.shape[0]\n",
    "    p = np.zeros((m, 1))\n",
    "    \n",
    "    for i in range(m):\n",
    "        p[i, 0] = Sequential(X[i], W1, b1, W2, b2)\n",
    "    return p"
   ]
  },
  {
   "cell_type": "code",
   "execution_count": 184,
   "id": "eb1ff0ad-0d0d-4933-8578-f3bc97f12cd0",
   "metadata": {},
   "outputs": [],
   "source": [
    "# 2 layers\n",
    "# 4 nodes\n",
    "W1 = np.random.rand(10,4)\n",
    "b1 = np.random.rand(4)\n",
    "\n",
    "W2 = np.random.rand(10,4)\n",
    "b2 = np.random.rand(4)"
   ]
  },
  {
   "cell_type": "code",
   "execution_count": 187,
   "id": "57050392-38eb-4d27-bf7d-b03cccc8b89f",
   "metadata": {},
   "outputs": [
    {
     "data": {
      "text/plain": [
       "(array([[0.68262706, 0.27487343, 0.56812985, 0.17540847],\n",
       "        [0.24054411, 0.68411033, 0.1366435 , 0.2521047 ],\n",
       "        [0.41011058, 0.35421278, 0.98904545, 0.31962824],\n",
       "        [0.2068564 , 0.36545202, 0.17769844, 0.65540447],\n",
       "        [0.29881942, 0.6137714 , 0.82158519, 0.41697487],\n",
       "        [0.46911376, 0.53523226, 0.94424482, 0.19747458],\n",
       "        [0.72852203, 0.72820681, 0.93687414, 0.82021153],\n",
       "        [0.91220527, 0.55374311, 0.03603129, 0.01085086],\n",
       "        [0.55686604, 0.74908935, 0.17052022, 0.52149317],\n",
       "        [0.85559291, 0.36327194, 0.29514968, 0.20671711]]),\n",
       " array([0.54548938, 0.69922207, 0.25943934, 0.04527258]),\n",
       " array([[0.39032742, 0.81030861, 0.58444715, 0.34679871],\n",
       "        [0.38024297, 0.28181382, 0.81334624, 0.45556792],\n",
       "        [0.27288947, 0.8398318 , 0.70152395, 0.73257836],\n",
       "        [0.60973088, 0.87689961, 0.09905038, 0.80607732],\n",
       "        [0.63646229, 0.27516139, 0.18843138, 0.20226076],\n",
       "        [0.93405638, 0.70144375, 0.70565264, 0.1670798 ],\n",
       "        [0.03917666, 0.45459563, 0.2745686 , 0.60472973],\n",
       "        [0.47642435, 0.56503819, 0.92860082, 0.3695734 ],\n",
       "        [0.06285806, 0.74381894, 0.5124966 , 0.59341392],\n",
       "        [0.88076567, 0.81518856, 0.87238566, 0.88244992]]),\n",
       " array([0.28223216, 0.28647295, 0.40384949, 0.82833988]))"
      ]
     },
     "execution_count": 187,
     "metadata": {},
     "output_type": "execute_result"
    }
   ],
   "source": [
    "W1, b1, W2, b2"
   ]
  },
  {
   "cell_type": "code",
   "execution_count": 195,
   "id": "ff6591a9-609a-424a-b813-1be4bc347440",
   "metadata": {},
   "outputs": [
    {
     "data": {
      "text/plain": [
       "array([7221.92820383, 3282.21176423, 5827.90303053, 2614.12772078])"
      ]
     },
     "execution_count": 195,
     "metadata": {},
     "output_type": "execute_result"
    }
   ],
   "source": [
    "np.dot(X[1], W1) + b1"
   ]
  },
  {
   "cell_type": "code",
   "execution_count": null,
   "id": "031c4161-5156-488d-86c6-95941c8e54b7",
   "metadata": {},
   "outputs": [],
   "source": []
  }
 ],
 "metadata": {
  "kernelspec": {
   "display_name": "Python 3 (ipykernel)",
   "language": "python",
   "name": "python3"
  },
  "language_info": {
   "codemirror_mode": {
    "name": "ipython",
    "version": 3
   },
   "file_extension": ".py",
   "mimetype": "text/x-python",
   "name": "python",
   "nbconvert_exporter": "python",
   "pygments_lexer": "ipython3",
   "version": "3.10.7"
  }
 },
 "nbformat": 4,
 "nbformat_minor": 5
}
