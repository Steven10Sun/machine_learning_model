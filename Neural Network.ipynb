{
 "cells": [
  {
   "cell_type": "markdown",
   "id": "248cbd58-4e56-45c1-b948-8fe1ad66f048",
   "metadata": {
    "tags": []
   },
   "source": [
    "### Perceptron\n",
    "**Data source**<br>\n",
    "Reference: https://www.freecodecamp.org/news/how-to-build-your-first-neural-network-to-predict-house-prices-with-keras-f8db83049159/ <br>\n",
    "The most basic form of a feed forward neural network. It is designed as a decision function for receiving inputs to produce a binary output.\n",
    "\n",
    "### alternative \n",
    "sigmoid neuron <br>\n",
    "hyperbolic tangent function\n",
    "\n",
    "Each node in the hidden layer represents a function, such as a sigmoid function, but with its own unique weights/hyperparameters. <br>\n",
    "This means that each input variable, in effect, is exposed to five different functions. <br>\n",
    "Simultaneously, the hidden layer nodes are exposed to all four features.\n",
    "\n",
    "The final output layer for this model consists of two discrete outcomes"
   ]
  },
  {
   "cell_type": "markdown",
   "id": "c273e808-a840-4837-9f2b-12f5b0bffc44",
   "metadata": {},
   "source": [
    "### back-propagation\n",
    "incrementally tweaking the network’s weights until the lowest possible cost value is obtained."
   ]
  },
  {
   "cell_type": "markdown",
   "id": "b597659c-49a8-45d6-a98e-907cddcb5f49",
   "metadata": {},
   "source": [
    "### learning algorithm\n",
    "1. Start with values (often random) for the network parameters (wij weights and bj biases).\n",
    "2. Take a set of examples of input data and pass them through the network to obtain their prediction.\n",
    "3. Compare these predictions obtained with the values of expected labels and calculate the loss with them.\n",
    "4. Perform the backpropagation in order to propagate this loss to each and every one of the parameters that make up the model of the neural network.\n",
    "5. Use this propagated information to update the parameters of the neural network with the gradient descent in a way that the total loss is reduced and a better model is obtained.\n",
    "6. Continue iterating in the previous steps until we consider that we have a good model."
   ]
  },
  {
   "cell_type": "code",
   "execution_count": 4,
   "id": "62207d73-5630-4240-a351-7fb5e1697f45",
   "metadata": {},
   "outputs": [],
   "source": [
    "import numpy as np\n",
    "import matplotlib.pyplot as plt"
   ]
  },
  {
   "cell_type": "code",
   "execution_count": 23,
   "id": "163976de-b63f-410f-b569-b871e6cbb5e9",
   "metadata": {},
   "outputs": [],
   "source": [
    "import tensorflow as tf"
   ]
  },
  {
   "cell_type": "markdown",
   "id": "822fedae-62a8-4593-93fa-605c2669cf81",
   "metadata": {},
   "source": [
    "### Activation function"
   ]
  },
  {
   "cell_type": "code",
   "execution_count": null,
   "id": "802571c2-d8b6-4331-81e3-1c5043dba59d",
   "metadata": {},
   "outputs": [],
   "source": [
    "def linear(z):\n",
    "    pass z"
   ]
  },
  {
   "cell_type": "code",
   "execution_count": 38,
   "id": "a51a6a40-a29c-4512-a78d-e759be4d391f",
   "metadata": {},
   "outputs": [],
   "source": [
    "def sigmoid(z):\n",
    "    return 1 / (1+np.exp(-z))"
   ]
  },
  {
   "cell_type": "code",
   "execution_count": 1,
   "id": "112c0481-298d-410f-8905-3bea371a28bc",
   "metadata": {},
   "outputs": [],
   "source": [
    "def tanh(z):\n",
    "    pass np.tanh(1)"
   ]
  },
  {
   "cell_type": "code",
   "execution_count": 2,
   "id": "23c2e0a8-71f7-4dbe-a216-c9e32eba943a",
   "metadata": {},
   "outputs": [],
   "source": [
    "def softmax(X):\n",
    "    pass"
   ]
  },
  {
   "cell_type": "code",
   "execution_count": 40,
   "id": "513a86b7-fbe3-4b15-a912-a95409d3efb0",
   "metadata": {},
   "outputs": [],
   "source": [
    "def relu(z):\n",
    "    return max(0, z)"
   ]
  },
  {
   "cell_type": "markdown",
   "id": "77c5c7bf-7b86-436b-bef3-d2ca79b2fdeb",
   "metadata": {},
   "source": [
    "### Activation"
   ]
  },
  {
   "cell_type": "code",
   "execution_count": 31,
   "id": "700dfa3c-b9a3-4ad6-82b0-e2ea62c71a97",
   "metadata": {},
   "outputs": [],
   "source": [
    "def Dense(a_in, W, b):\n",
    "    units = W.shape[1]    \n",
    "    a_out = np.zeros(units)\n",
    "    \n",
    "    for i in range(units):\n",
    "        z = np.dot(W[:, i], a_in) + b[i]    \n",
    "        a_out = sigmoid(z)\n",
    "    return a_out"
   ]
  },
  {
   "cell_type": "markdown",
   "id": "3fabac83-7a7e-4e15-9bdc-4669679b2c92",
   "metadata": {},
   "source": [
    "### Number of layer"
   ]
  },
  {
   "cell_type": "code",
   "execution_count": 32,
   "id": "57f52b33-6064-4895-8d92-621882cd9a15",
   "metadata": {},
   "outputs": [],
   "source": [
    "def Sequential(x, W1, b1, W2, b2):\n",
    "    a1 = Dense(x, W1, b1)\n",
    "    a2 = Dense(a1, W2, b2)\n",
    "    return a2"
   ]
  },
  {
   "cell_type": "markdown",
   "id": "684b81e8-2bdd-4f81-a0dc-a1d74d14aea7",
   "metadata": {},
   "source": [
    "### Prediction"
   ]
  },
  {
   "cell_type": "code",
   "execution_count": 33,
   "id": "97eec192-4bbb-4c62-98e1-38dbe1ccdf3b",
   "metadata": {},
   "outputs": [],
   "source": [
    "def Predict(X, W1, b1, W2, b2):\n",
    "    m = X.shape[0]\n",
    "    p = np.zeros((m, 1))\n",
    "    \n",
    "    for i in range(m):\n",
    "        p[i, 0] = Sequential(X[i], W1, b1, W2, b2)\n",
    "    return p"
   ]
  },
  {
   "cell_type": "code",
   "execution_count": 34,
   "id": "0f40f296-ce75-4699-b0ba-05448071d82e",
   "metadata": {},
   "outputs": [],
   "source": [
    "W1_tmp = np.array( [[-8.93,  0.29, 12.9 ], [-0.1,  -7.32, 10.81]] )\n",
    "b1_tmp = np.array( [-9.82, -9.28,  0.96] )\n",
    "W2_tmp = np.array( [[-31.18], [-27.59], [-32.56]] )\n",
    "b2_tmp = np.array( [15.41] )"
   ]
  },
  {
   "cell_type": "code",
   "execution_count": 35,
   "id": "d25e2c80-b905-4ed5-9a35-e73c1d4cbd50",
   "metadata": {},
   "outputs": [],
   "source": [
    "X_tst = np.array([\n",
    "    [200,13.9],\n",
    "    [200,17]])"
   ]
  },
  {
   "cell_type": "code",
   "execution_count": 36,
   "id": "d3543bd6-0312-4151-ac6b-41453c023b5a",
   "metadata": {},
   "outputs": [],
   "source": [
    "norm_l = tf.keras.layers.Normalization(axis=-1)\n",
    "norm_l.adapt(X_tst)  # learns mean, variance\n",
    "Xn = norm_l(X_tst)"
   ]
  },
  {
   "cell_type": "code",
   "execution_count": 39,
   "id": "efbcb855-5459-4ab4-9dea-75128d2de619",
   "metadata": {},
   "outputs": [
    {
     "ename": "ValueError",
     "evalue": "setting an array element with a sequence.",
     "output_type": "error",
     "traceback": [
      "\u001b[1;31m---------------------------------------------------------------------------\u001b[0m",
      "\u001b[1;31mTypeError\u001b[0m                                 Traceback (most recent call last)",
      "\u001b[1;31mTypeError\u001b[0m: only size-1 arrays can be converted to Python scalars",
      "\nThe above exception was the direct cause of the following exception:\n",
      "\u001b[1;31mValueError\u001b[0m                                Traceback (most recent call last)",
      "Cell \u001b[1;32mIn [39], line 1\u001b[0m\n\u001b[1;32m----> 1\u001b[0m \u001b[43mPredict\u001b[49m\u001b[43m(\u001b[49m\u001b[43mXn\u001b[49m\u001b[43m,\u001b[49m\u001b[43m \u001b[49m\u001b[43mW1_tmp\u001b[49m\u001b[43m,\u001b[49m\u001b[43m \u001b[49m\u001b[43mb1_tmp\u001b[49m\u001b[43m,\u001b[49m\u001b[43m \u001b[49m\u001b[43mW2_tmp\u001b[49m\u001b[43m,\u001b[49m\u001b[43m \u001b[49m\u001b[43mb2_tmp\u001b[49m\u001b[43m)\u001b[49m\n",
      "Cell \u001b[1;32mIn [33], line 6\u001b[0m, in \u001b[0;36mPredict\u001b[1;34m(X, W1, b1, W2, b2)\u001b[0m\n\u001b[0;32m      3\u001b[0m p \u001b[38;5;241m=\u001b[39m np\u001b[38;5;241m.\u001b[39mzeros((m, \u001b[38;5;241m1\u001b[39m))\n\u001b[0;32m      5\u001b[0m \u001b[38;5;28;01mfor\u001b[39;00m i \u001b[38;5;129;01min\u001b[39;00m \u001b[38;5;28mrange\u001b[39m(m):\n\u001b[1;32m----> 6\u001b[0m     \u001b[43mp\u001b[49m\u001b[43m[\u001b[49m\u001b[43mi\u001b[49m\u001b[43m,\u001b[49m\u001b[43m \u001b[49m\u001b[38;5;241;43m0\u001b[39;49m\u001b[43m]\u001b[49m \u001b[38;5;241m=\u001b[39m Sequential(X[i], W1, b1, W2, b2)\n\u001b[0;32m      7\u001b[0m \u001b[38;5;28;01mreturn\u001b[39;00m p\n",
      "\u001b[1;31mValueError\u001b[0m: setting an array element with a sequence."
     ]
    }
   ],
   "source": [
    "Predict(Xn, W1_tmp, b1_tmp, W2_tmp, b2_tmp)"
   ]
  },
  {
   "cell_type": "markdown",
   "id": "2d45b6c6-fea2-42e7-a6a5-83035f918eef",
   "metadata": {},
   "source": [
    "### Decision"
   ]
  },
  {
   "cell_type": "code",
   "execution_count": null,
   "id": "bd133dc9-865a-46cb-b4da-1caf6951bec6",
   "metadata": {},
   "outputs": [],
   "source": []
  }
 ],
 "metadata": {
  "kernelspec": {
   "display_name": "Python 3 (ipykernel)",
   "language": "python",
   "name": "python3"
  },
  "language_info": {
   "codemirror_mode": {
    "name": "ipython",
    "version": 3
   },
   "file_extension": ".py",
   "mimetype": "text/x-python",
   "name": "python",
   "nbconvert_exporter": "python",
   "pygments_lexer": "ipython3",
   "version": "3.10.7"
  }
 },
 "nbformat": 4,
 "nbformat_minor": 5
}
