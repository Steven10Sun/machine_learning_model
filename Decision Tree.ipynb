{
 "cells": [
  {
   "cell_type": "markdown",
   "id": "b2403f6c-30ad-4968-b1c1-f06ed0e8ceec",
   "metadata": {},
   "source": [
    "# Decision Tree\n",
    "Link: https://www.analyticsvidhya.com/blog/2021/08/decision-tree-algorithm/\n",
    "\n",
    "## How to choose the root node\n",
    "For each categorical features, we identify the feature values (Y & N) into two leaves. For each leaves, we identify the target distribution\n",
    "\n",
    "## Prediction Model 1: Entropy\n",
    "Def: Entropy is an information theory metric that measures the impurity or uncertainty in a group of observations. \n",
    "- Bigger = impure\n",
    "- Smaller = pure\n",
    "- Range: 0-1\n",
    "\n",
    "Equation: $E= \\sum p(x)log(\\frac{1}{p(x)}) = -\\sum p(x)\\log_2(p(x))$\n",
    "\n",
    "## Prediction Model 2: Gini Impurity\n",
    "Def: tells us what is the probability of misclassifying an observation. Note that the lower the Gini the better the split and the lower the likelihood of misclassification. <br>\n",
    "Gini Impurity for a Leaf = 1 - [\\(probability of 'Yes'\\)$^2$ + \\(probability of 'No'\\)$^2$]<br>\n",
    "$Gini=1 - \\sum\\limits_{i-1}^{n}(p_i)^2$, for each leaves <br>\n",
    "Then, sum each Gini with its owned weight(number on its leaves / total number) $\\sum\\limits_{i=1}^{n}n_i/N*Gini_i$\n",
    "\n",
    "## Prediction Model: Information Gain\n",
    "Information gain as a measure of how much information a feature provides about a class. Information gain helps to determine the **order of attributes (the higher the first to be the node)** in the nodes of a decision tree. <br>\n",
    "E(Parent): the impurity of the y without split by features <br>\n",
    "E(Parent|Feature X1): the impurity of the y after split by features X1 <br>\n",
    "**Information Gain = E(Parent) - E(Parent|Feature X1)** <br>\n",
    "\n",
    "### Gini Impurity (Numeric Data)\n",
    "**Steps**\n",
    "1. Sort the feature values\n",
    "2. Calculate all the average value for all adjacent values. For example, [1, 3, 4, 6, 9, 13], average value: [2, 3.5, 5, 7.5, 11]\n",
    "3. For each average value, we use it for the classifier threshold.\n",
    "4. Calculate the Gini impurity(Categorical Data)\n",
    "5. Choose the threshold with the lowest Gini Impurity <br>\n",
    "\n",
    "After choosing the root node, each for internal nodes (branches), we can choose the next node based on the same Gini impurity method aboved until Gini impurity 0. But there may be **overfit**, so we can \n",
    "1. Pruning method\n",
    "2. the distribution of extreme enough, eg: 3:7 or 2:8 to stop the tree.\n",
    "3. stop the tree if people in the leave is small enough in a certain level "
   ]
  },
  {
   "cell_type": "code",
   "execution_count": 2,
   "id": "db67b529-1648-4918-8466-deefa14d2276",
   "metadata": {
    "tags": []
   },
   "outputs": [],
   "source": [
    "import pandas as pd\n",
    "import matplotlib.pyplot as plt\n",
    "import numpy as np\n",
    "import seaborn as sns\n",
    "import math\n",
    "import warnings\n",
    "warnings.filterwarnings('ignore')\n",
    "np.set_printoptions(suppress=True)\n",
    "sns.set(rc={'figure.figsize':(10,8)})"
   ]
  },
  {
   "cell_type": "markdown",
   "id": "e6ecf718-1489-4eba-8d29-9d4fa47ff329",
   "metadata": {},
   "source": [
    "### Gini impurity"
   ]
  },
  {
   "cell_type": "code",
   "execution_count": 3,
   "id": "814a2eef-1ec7-4881-9c86-3f4229d373bd",
   "metadata": {},
   "outputs": [],
   "source": [
    "def Gini(*gorups):\n",
    "    gini = 0\n",
    "    total_num = np.sum([group.shape[0] for group in groups])\n",
    "    \n",
    "    for group in groups:\n",
    "        y = group[1]\n",
    "        group_size = y.shape[0]\n",
    "        _, count = np.unique(y, return_counts=True)\n",
    "        p = count / group_size\n",
    "        weight = group_size / total_num\n",
    "        \n",
    "        gini += (1 - np.sum(p**2)) * weight\n",
    "    return entropy"
   ]
  },
  {
   "cell_type": "markdown",
   "id": "58d7a90e-2f85-4a70-bd37-8013949bd0d5",
   "metadata": {},
   "source": [
    "### Data source"
   ]
  },
  {
   "cell_type": "code",
   "execution_count": 16,
   "id": "cb54507a-9632-41cd-b308-98e572fdd219",
   "metadata": {},
   "outputs": [],
   "source": [
    "fr = open('data/lenses.txt', 'r')\n",
    "lenses = np.array([inst.strip().split('\\t') for inst in fr.readlines()])\n",
    "lensesLabels = ['age', 'prescript', 'astigmatic', 'tearRate']\n",
    "X = lenses[:, :-1]\n",
    "y = lenses[:, -1]"
   ]
  },
  {
   "cell_type": "markdown",
   "id": "ec092846-a267-4e62-8b30-b2e30ce5d184",
   "metadata": {},
   "source": [
    "### Entropy"
   ]
  },
  {
   "cell_type": "code",
   "execution_count": 5,
   "id": "2657ee80-8799-4d9c-92d9-c19d7bcc513f",
   "metadata": {},
   "outputs": [],
   "source": [
    "def Entropy(y):\n",
    "    _, count = np.unique(y, return_counts=True)\n",
    "    p = count / len(y)\n",
    "    entropy = p @ -np.log(p)\n",
    "    return entropy"
   ]
  },
  {
   "cell_type": "markdown",
   "id": "f543bd7f-f940-4a23-9765-1728a3f280e2",
   "metadata": {},
   "source": [
    "### Split data if feature value is XXX"
   ]
  },
  {
   "cell_type": "code",
   "execution_count": 6,
   "id": "00791183-1e1a-474d-be2b-e89dbed034a8",
   "metadata": {},
   "outputs": [],
   "source": [
    "def Split(X, y, col_index, value):\n",
    "    sub_group = X[X[:, col_index] == value]    # splited X\n",
    "    index = np.where(X[:, col_index] == value)[0]    # splited y\n",
    "    return sub_group, y[index]"
   ]
  },
  {
   "cell_type": "markdown",
   "id": "c9d22a0c-9a66-4fa1-955e-d71180b827a9",
   "metadata": {},
   "source": [
    "### Find the best feature to split"
   ]
  },
  {
   "cell_type": "code",
   "execution_count": 7,
   "id": "9f67e376-636b-4ad1-a518-1afd4ec4133e",
   "metadata": {
    "tags": []
   },
   "outputs": [],
   "source": [
    "def Best_Feature_to_Split(X, y):\n",
    "    # set initial information gain and root entropy\n",
    "    n = X.shape[0]\n",
    "    parent_entropy = Entropy(y)\n",
    "    best_info_gain = 0\n",
    "    best_feature = 0\n",
    "\n",
    "    # for loop each columns\n",
    "    for column in range(X.shape[1]):\n",
    "        \n",
    "        # for loop each unique value under the feature column\n",
    "        feature_values = np.unique(X[:, column])\n",
    "        child_entropy = 0\n",
    "        for value in feature_values:\n",
    "            subset__X, subset_y = Split(X, y, column, value)    #return list of y after split by x with value \n",
    "            p = len(subset_y) / n\n",
    "            child_entropy += p * Entropy(subset_y)  \n",
    "        info_gain = parent_entropy - child_entropy    # information gain\n",
    "\n",
    "        # find the largest information gain and its columns\n",
    "        if info_gain > best_info_gain:\n",
    "            best_info_gain = info_gain\n",
    "            best_feature = column\n",
    "    return best_feature"
   ]
  },
  {
   "cell_type": "markdown",
   "id": "574a7b5f-70a5-4977-a528-045c189b76ba",
   "metadata": {},
   "source": [
    "### Majority of values in the class"
   ]
  },
  {
   "cell_type": "code",
   "execution_count": 8,
   "id": "b21c9fe8-295c-4e9e-b871-26309a869979",
   "metadata": {},
   "outputs": [],
   "source": [
    "def Majority_Voting(y):\n",
    "    target, counts = np.unique(y, return_counts=True)\n",
    "    return target[counts.argmax()]    # return value with highest counts"
   ]
  },
  {
   "cell_type": "markdown",
   "id": "a455c088-2245-4a22-b81c-19e7fc95c59d",
   "metadata": {},
   "source": [
    "### Tree"
   ]
  },
  {
   "cell_type": "code",
   "execution_count": 9,
   "id": "c1e9c3e0-b1a0-4e03-8ad6-fec51005ea23",
   "metadata": {},
   "outputs": [
    {
     "data": {
      "text/plain": [
       "3"
      ]
     },
     "execution_count": 9,
     "metadata": {},
     "output_type": "execute_result"
    }
   ],
   "source": [
    "Best_Feature_to_Split(X, y)"
   ]
  },
  {
   "cell_type": "code",
   "execution_count": 21,
   "id": "ed548ad3-f220-4b36-86a6-66ceb26aa87f",
   "metadata": {
    "tags": []
   },
   "outputs": [],
   "source": [
    "def Tree(X, y):\n",
    "    if len(np.unique(y)) == 1:    # if y are all the same, return one of y value\n",
    "        print(y[0])\n",
    "    if len(X[0]) == 0:    #\n",
    "        print(Majority_Voting(y))\n",
    "    best_feature = Best_Feature_to_Split(X, y)\n",
    "    decision_tree = {lensesLabels[best_feature]: {}}\n",
    "    \n",
    "    for value in np.unique(X[:, best_feature]):    # based on best feature, for loop feature value\n",
    "        subset_X, subset_y = Split(X, y, best_feature, value)\n",
    "        subset_X = np.delete(subset_X, best_feature, 1)    # delete the splited column\n",
    "        decision_tree[decision_tree] = Tree(subset_X, subset_y)\n",
    "        \n",
    "        return decision_tree\n",
    "        "
   ]
  },
  {
   "cell_type": "code",
   "execution_count": 22,
   "id": "07b13fa8-0b3e-435a-b66d-ef7499a27382",
   "metadata": {
    "collapsed": true,
    "jupyter": {
     "outputs_hidden": true
    },
    "tags": []
   },
   "outputs": [
    {
     "name": "stdout",
     "output_type": "stream",
     "text": [
      "soft\n",
      "soft\n",
      "soft\n"
     ]
    },
    {
     "ename": "IndexError",
     "evalue": "index 0 is out of bounds for axis 1 with size 0",
     "output_type": "error",
     "traceback": [
      "\u001b[1;31m---------------------------------------------------------------------------\u001b[0m",
      "\u001b[1;31mIndexError\u001b[0m                                Traceback (most recent call last)",
      "\u001b[1;32m~\\AppData\\Local\\Temp/ipykernel_4040/305741746.py\u001b[0m in \u001b[0;36m<module>\u001b[1;34m\u001b[0m\n\u001b[1;32m----> 1\u001b[1;33m \u001b[0mTree\u001b[0m\u001b[1;33m(\u001b[0m\u001b[0mX\u001b[0m\u001b[1;33m,\u001b[0m \u001b[0my\u001b[0m\u001b[1;33m)\u001b[0m\u001b[1;33m\u001b[0m\u001b[1;33m\u001b[0m\u001b[0m\n\u001b[0m",
      "\u001b[1;32m~\\AppData\\Local\\Temp/ipykernel_4040/3342510123.py\u001b[0m in \u001b[0;36mTree\u001b[1;34m(X, y)\u001b[0m\n\u001b[0;32m     11\u001b[0m         \u001b[0msubset_X\u001b[0m\u001b[1;33m,\u001b[0m \u001b[0msubset_y\u001b[0m \u001b[1;33m=\u001b[0m \u001b[0mSplit\u001b[0m\u001b[1;33m(\u001b[0m\u001b[0mX\u001b[0m\u001b[1;33m,\u001b[0m \u001b[0my\u001b[0m\u001b[1;33m,\u001b[0m \u001b[0mbest_feature\u001b[0m\u001b[1;33m,\u001b[0m \u001b[0mvalue\u001b[0m\u001b[1;33m)\u001b[0m\u001b[1;33m\u001b[0m\u001b[1;33m\u001b[0m\u001b[0m\n\u001b[0;32m     12\u001b[0m         \u001b[0msubset_X\u001b[0m \u001b[1;33m=\u001b[0m \u001b[0mnp\u001b[0m\u001b[1;33m.\u001b[0m\u001b[0mdelete\u001b[0m\u001b[1;33m(\u001b[0m\u001b[0msubset_X\u001b[0m\u001b[1;33m,\u001b[0m \u001b[0mbest_feature\u001b[0m\u001b[1;33m,\u001b[0m \u001b[1;36m1\u001b[0m\u001b[1;33m)\u001b[0m    \u001b[1;31m# delete the splited column\u001b[0m\u001b[1;33m\u001b[0m\u001b[1;33m\u001b[0m\u001b[0m\n\u001b[1;32m---> 13\u001b[1;33m         \u001b[0mdecision_tree\u001b[0m\u001b[1;33m[\u001b[0m\u001b[0mdecision_tree\u001b[0m\u001b[1;33m]\u001b[0m \u001b[1;33m=\u001b[0m \u001b[0mTree\u001b[0m\u001b[1;33m(\u001b[0m\u001b[0msubset_X\u001b[0m\u001b[1;33m,\u001b[0m \u001b[0msubset_y\u001b[0m\u001b[1;33m)\u001b[0m\u001b[1;33m\u001b[0m\u001b[1;33m\u001b[0m\u001b[0m\n\u001b[0m\u001b[0;32m     14\u001b[0m \u001b[1;33m\u001b[0m\u001b[0m\n\u001b[0;32m     15\u001b[0m         \u001b[1;32mreturn\u001b[0m \u001b[0mdecision_tree\u001b[0m\u001b[1;33m\u001b[0m\u001b[1;33m\u001b[0m\u001b[0m\n",
      "\u001b[1;32m~\\AppData\\Local\\Temp/ipykernel_4040/3342510123.py\u001b[0m in \u001b[0;36mTree\u001b[1;34m(X, y)\u001b[0m\n\u001b[0;32m     11\u001b[0m         \u001b[0msubset_X\u001b[0m\u001b[1;33m,\u001b[0m \u001b[0msubset_y\u001b[0m \u001b[1;33m=\u001b[0m \u001b[0mSplit\u001b[0m\u001b[1;33m(\u001b[0m\u001b[0mX\u001b[0m\u001b[1;33m,\u001b[0m \u001b[0my\u001b[0m\u001b[1;33m,\u001b[0m \u001b[0mbest_feature\u001b[0m\u001b[1;33m,\u001b[0m \u001b[0mvalue\u001b[0m\u001b[1;33m)\u001b[0m\u001b[1;33m\u001b[0m\u001b[1;33m\u001b[0m\u001b[0m\n\u001b[0;32m     12\u001b[0m         \u001b[0msubset_X\u001b[0m \u001b[1;33m=\u001b[0m \u001b[0mnp\u001b[0m\u001b[1;33m.\u001b[0m\u001b[0mdelete\u001b[0m\u001b[1;33m(\u001b[0m\u001b[0msubset_X\u001b[0m\u001b[1;33m,\u001b[0m \u001b[0mbest_feature\u001b[0m\u001b[1;33m,\u001b[0m \u001b[1;36m1\u001b[0m\u001b[1;33m)\u001b[0m    \u001b[1;31m# delete the splited column\u001b[0m\u001b[1;33m\u001b[0m\u001b[1;33m\u001b[0m\u001b[0m\n\u001b[1;32m---> 13\u001b[1;33m         \u001b[0mdecision_tree\u001b[0m\u001b[1;33m[\u001b[0m\u001b[0mdecision_tree\u001b[0m\u001b[1;33m]\u001b[0m \u001b[1;33m=\u001b[0m \u001b[0mTree\u001b[0m\u001b[1;33m(\u001b[0m\u001b[0msubset_X\u001b[0m\u001b[1;33m,\u001b[0m \u001b[0msubset_y\u001b[0m\u001b[1;33m)\u001b[0m\u001b[1;33m\u001b[0m\u001b[1;33m\u001b[0m\u001b[0m\n\u001b[0m\u001b[0;32m     14\u001b[0m \u001b[1;33m\u001b[0m\u001b[0m\n\u001b[0;32m     15\u001b[0m         \u001b[1;32mreturn\u001b[0m \u001b[0mdecision_tree\u001b[0m\u001b[1;33m\u001b[0m\u001b[1;33m\u001b[0m\u001b[0m\n",
      "\u001b[1;32m~\\AppData\\Local\\Temp/ipykernel_4040/3342510123.py\u001b[0m in \u001b[0;36mTree\u001b[1;34m(X, y)\u001b[0m\n\u001b[0;32m     11\u001b[0m         \u001b[0msubset_X\u001b[0m\u001b[1;33m,\u001b[0m \u001b[0msubset_y\u001b[0m \u001b[1;33m=\u001b[0m \u001b[0mSplit\u001b[0m\u001b[1;33m(\u001b[0m\u001b[0mX\u001b[0m\u001b[1;33m,\u001b[0m \u001b[0my\u001b[0m\u001b[1;33m,\u001b[0m \u001b[0mbest_feature\u001b[0m\u001b[1;33m,\u001b[0m \u001b[0mvalue\u001b[0m\u001b[1;33m)\u001b[0m\u001b[1;33m\u001b[0m\u001b[1;33m\u001b[0m\u001b[0m\n\u001b[0;32m     12\u001b[0m         \u001b[0msubset_X\u001b[0m \u001b[1;33m=\u001b[0m \u001b[0mnp\u001b[0m\u001b[1;33m.\u001b[0m\u001b[0mdelete\u001b[0m\u001b[1;33m(\u001b[0m\u001b[0msubset_X\u001b[0m\u001b[1;33m,\u001b[0m \u001b[0mbest_feature\u001b[0m\u001b[1;33m,\u001b[0m \u001b[1;36m1\u001b[0m\u001b[1;33m)\u001b[0m    \u001b[1;31m# delete the splited column\u001b[0m\u001b[1;33m\u001b[0m\u001b[1;33m\u001b[0m\u001b[0m\n\u001b[1;32m---> 13\u001b[1;33m         \u001b[0mdecision_tree\u001b[0m\u001b[1;33m[\u001b[0m\u001b[0mdecision_tree\u001b[0m\u001b[1;33m]\u001b[0m \u001b[1;33m=\u001b[0m \u001b[0mTree\u001b[0m\u001b[1;33m(\u001b[0m\u001b[0msubset_X\u001b[0m\u001b[1;33m,\u001b[0m \u001b[0msubset_y\u001b[0m\u001b[1;33m)\u001b[0m\u001b[1;33m\u001b[0m\u001b[1;33m\u001b[0m\u001b[0m\n\u001b[0m\u001b[0;32m     14\u001b[0m \u001b[1;33m\u001b[0m\u001b[0m\n\u001b[0;32m     15\u001b[0m         \u001b[1;32mreturn\u001b[0m \u001b[0mdecision_tree\u001b[0m\u001b[1;33m\u001b[0m\u001b[1;33m\u001b[0m\u001b[0m\n",
      "\u001b[1;32m~\\AppData\\Local\\Temp/ipykernel_4040/3342510123.py\u001b[0m in \u001b[0;36mTree\u001b[1;34m(X, y)\u001b[0m\n\u001b[0;32m     11\u001b[0m         \u001b[0msubset_X\u001b[0m\u001b[1;33m,\u001b[0m \u001b[0msubset_y\u001b[0m \u001b[1;33m=\u001b[0m \u001b[0mSplit\u001b[0m\u001b[1;33m(\u001b[0m\u001b[0mX\u001b[0m\u001b[1;33m,\u001b[0m \u001b[0my\u001b[0m\u001b[1;33m,\u001b[0m \u001b[0mbest_feature\u001b[0m\u001b[1;33m,\u001b[0m \u001b[0mvalue\u001b[0m\u001b[1;33m)\u001b[0m\u001b[1;33m\u001b[0m\u001b[1;33m\u001b[0m\u001b[0m\n\u001b[0;32m     12\u001b[0m         \u001b[0msubset_X\u001b[0m \u001b[1;33m=\u001b[0m \u001b[0mnp\u001b[0m\u001b[1;33m.\u001b[0m\u001b[0mdelete\u001b[0m\u001b[1;33m(\u001b[0m\u001b[0msubset_X\u001b[0m\u001b[1;33m,\u001b[0m \u001b[0mbest_feature\u001b[0m\u001b[1;33m,\u001b[0m \u001b[1;36m1\u001b[0m\u001b[1;33m)\u001b[0m    \u001b[1;31m# delete the splited column\u001b[0m\u001b[1;33m\u001b[0m\u001b[1;33m\u001b[0m\u001b[0m\n\u001b[1;32m---> 13\u001b[1;33m         \u001b[0mdecision_tree\u001b[0m\u001b[1;33m[\u001b[0m\u001b[0mdecision_tree\u001b[0m\u001b[1;33m]\u001b[0m \u001b[1;33m=\u001b[0m \u001b[0mTree\u001b[0m\u001b[1;33m(\u001b[0m\u001b[0msubset_X\u001b[0m\u001b[1;33m,\u001b[0m \u001b[0msubset_y\u001b[0m\u001b[1;33m)\u001b[0m\u001b[1;33m\u001b[0m\u001b[1;33m\u001b[0m\u001b[0m\n\u001b[0m\u001b[0;32m     14\u001b[0m \u001b[1;33m\u001b[0m\u001b[0m\n\u001b[0;32m     15\u001b[0m         \u001b[1;32mreturn\u001b[0m \u001b[0mdecision_tree\u001b[0m\u001b[1;33m\u001b[0m\u001b[1;33m\u001b[0m\u001b[0m\n",
      "\u001b[1;32m~\\AppData\\Local\\Temp/ipykernel_4040/3342510123.py\u001b[0m in \u001b[0;36mTree\u001b[1;34m(X, y)\u001b[0m\n\u001b[0;32m      8\u001b[0m     \u001b[0mdecision_tree\u001b[0m \u001b[1;33m=\u001b[0m \u001b[1;33m{\u001b[0m\u001b[0mlensesLabels\u001b[0m\u001b[1;33m[\u001b[0m\u001b[0mbest_feature\u001b[0m\u001b[1;33m]\u001b[0m\u001b[1;33m:\u001b[0m \u001b[1;33m{\u001b[0m\u001b[1;33m}\u001b[0m\u001b[1;33m}\u001b[0m\u001b[1;33m\u001b[0m\u001b[1;33m\u001b[0m\u001b[0m\n\u001b[0;32m      9\u001b[0m \u001b[1;33m\u001b[0m\u001b[0m\n\u001b[1;32m---> 10\u001b[1;33m     \u001b[1;32mfor\u001b[0m \u001b[0mvalue\u001b[0m \u001b[1;32min\u001b[0m \u001b[0mnp\u001b[0m\u001b[1;33m.\u001b[0m\u001b[0munique\u001b[0m\u001b[1;33m(\u001b[0m\u001b[0mX\u001b[0m\u001b[1;33m[\u001b[0m\u001b[1;33m:\u001b[0m\u001b[1;33m,\u001b[0m \u001b[0mbest_feature\u001b[0m\u001b[1;33m]\u001b[0m\u001b[1;33m)\u001b[0m\u001b[1;33m:\u001b[0m    \u001b[1;31m# based on best feature, for loop feature value\u001b[0m\u001b[1;33m\u001b[0m\u001b[1;33m\u001b[0m\u001b[0m\n\u001b[0m\u001b[0;32m     11\u001b[0m         \u001b[0msubset_X\u001b[0m\u001b[1;33m,\u001b[0m \u001b[0msubset_y\u001b[0m \u001b[1;33m=\u001b[0m \u001b[0mSplit\u001b[0m\u001b[1;33m(\u001b[0m\u001b[0mX\u001b[0m\u001b[1;33m,\u001b[0m \u001b[0my\u001b[0m\u001b[1;33m,\u001b[0m \u001b[0mbest_feature\u001b[0m\u001b[1;33m,\u001b[0m \u001b[0mvalue\u001b[0m\u001b[1;33m)\u001b[0m\u001b[1;33m\u001b[0m\u001b[1;33m\u001b[0m\u001b[0m\n\u001b[0;32m     12\u001b[0m         \u001b[0msubset_X\u001b[0m \u001b[1;33m=\u001b[0m \u001b[0mnp\u001b[0m\u001b[1;33m.\u001b[0m\u001b[0mdelete\u001b[0m\u001b[1;33m(\u001b[0m\u001b[0msubset_X\u001b[0m\u001b[1;33m,\u001b[0m \u001b[0mbest_feature\u001b[0m\u001b[1;33m,\u001b[0m \u001b[1;36m1\u001b[0m\u001b[1;33m)\u001b[0m    \u001b[1;31m# delete the splited column\u001b[0m\u001b[1;33m\u001b[0m\u001b[1;33m\u001b[0m\u001b[0m\n",
      "\u001b[1;31mIndexError\u001b[0m: index 0 is out of bounds for axis 1 with size 0"
     ]
    }
   ],
   "source": [
    "Tree(X, y) "
   ]
  },
  {
   "cell_type": "code",
   "execution_count": 57,
   "id": "36076cf5-bfcb-4c0e-a5b5-57880bb2ca63",
   "metadata": {},
   "outputs": [
    {
     "name": "stdout",
     "output_type": "stream",
     "text": [
      "['no surfacing', 'flippers'] 0 no surfacing\n",
      "{'no surfacing': {}}\n",
      "[1, 1, 1, 0, 0]\n",
      "{0, 1}\n"
     ]
    },
    {
     "ename": "NameError",
     "evalue": "name 'createTree' is not defined",
     "output_type": "error",
     "traceback": [
      "\u001b[1;31m---------------------------------------------------------------------------\u001b[0m",
      "\u001b[1;31mNameError\u001b[0m                                 Traceback (most recent call last)",
      "Cell \u001b[1;32mIn [57], line 19\u001b[0m\n\u001b[0;32m     17\u001b[0m \u001b[38;5;28;01mfor\u001b[39;00m value \u001b[38;5;129;01min\u001b[39;00m uniqueVals:\n\u001b[0;32m     18\u001b[0m     subLabels \u001b[38;5;241m=\u001b[39m labels[:]\n\u001b[1;32m---> 19\u001b[0m     myTree[bestFeatLabel][value] \u001b[38;5;241m=\u001b[39m \u001b[43mcreateTree\u001b[49m(splitDataSet(dataSet, bestFeat, value),subLabels)\n\u001b[0;32m     20\u001b[0m     \u001b[38;5;28mprint\u001b[39m(myTree)\n",
      "\u001b[1;31mNameError\u001b[0m: name 'createTree' is not defined"
     ]
    }
   ],
   "source": [
    "def createTree(dataSet,labels):\n",
    "    classList = [example[-1] for example in dataSet]\n",
    "    if classList.count(classList[0]) == len(classList): \n",
    "        return classList[0]#stop splitting when all of the classes are equal\n",
    "    if len(dataSet[0]) == 1: #stop splitting when there are no more features in dataSet\n",
    "        return majorityCnt(classList)\n",
    "    bestFeat = chooseBestFeatureToSplit(dataSet)\n",
    "    bestFeatLabel = labels[bestFeat]\n",
    "    myTree = {bestFeatLabel:{}}\n",
    "    del(labels[bestFeat])\n",
    "    featValues = [example[bestFeat] for example in dataSet]\n",
    "    uniqueVals = set(featValues)\n",
    "    for value in uniqueVals:\n",
    "        subLabels = labels[:]       #copy all of labels, so trees don't mess up existing labels\n",
    "        myTree[bestFeatLabel][value] = createTree(splitDataSet(dataSet, bestFeat, value),subLabels)\n",
    "    return myTree  "
   ]
  }
 ],
 "metadata": {
  "kernelspec": {
   "display_name": "Python 3 (ipykernel)",
   "language": "python",
   "name": "python3"
  },
  "language_info": {
   "codemirror_mode": {
    "name": "ipython",
    "version": 3
   },
   "file_extension": ".py",
   "mimetype": "text/x-python",
   "name": "python",
   "nbconvert_exporter": "python",
   "pygments_lexer": "ipython3",
   "version": "3.9.13"
  }
 },
 "nbformat": 4,
 "nbformat_minor": 5
}
