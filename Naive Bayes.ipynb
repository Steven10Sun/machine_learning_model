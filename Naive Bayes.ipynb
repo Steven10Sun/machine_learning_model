{
 "cells": [
  {
   "cell_type": "code",
   "execution_count": 1,
   "id": "84fb9739-db08-4e9f-a8e2-97b9d9d4126c",
   "metadata": {},
   "outputs": [],
   "source": [
    "import pandas as pd\n",
    "import numpy as np"
   ]
  },
  {
   "cell_type": "code",
   "execution_count": 2,
   "id": "0a1be16e-f627-49e1-9658-178156910fdb",
   "metadata": {},
   "outputs": [],
   "source": [
    "def loadDataSet():\n",
    "    postingList=[['my', 'dog', 'has', 'flea', 'problems', 'help', 'please'],\n",
    "                 ['maybe', 'not', 'take', 'him', 'to', 'dog', 'park', 'stupid'],\n",
    "                 ['my', 'dalmation', 'is', 'so', 'cute', 'I', 'love', 'him'],\n",
    "                 ['stop', 'posting', 'stupid', 'worthless', 'garbage'],\n",
    "                 ['mr', 'licks', 'ate', 'my', 'steak', 'how', 'to', 'stop', 'him'],\n",
    "                 ['quit', 'buying', 'worthless', 'dog', 'food', 'stupid']]\n",
    "    classVec = [0,1,0,1,0,1]    #1 is abusive, 0 not\n",
    "    return postingList,classVec"
   ]
  },
  {
   "cell_type": "code",
   "execution_count": 3,
   "id": "d26ab54a-acd1-479b-8e13-8af49f9a369e",
   "metadata": {},
   "outputs": [],
   "source": [
    "postingList,classVec = loadDataSet()"
   ]
  },
  {
   "cell_type": "code",
   "execution_count": 6,
   "id": "8fb4afd9-01b9-45a8-9e46-1adaa48a7853",
   "metadata": {},
   "outputs": [
    {
     "data": {
      "text/plain": [
       "list"
      ]
     },
     "execution_count": 6,
     "metadata": {},
     "output_type": "execute_result"
    }
   ],
   "source": [
    "type(postingList)"
   ]
  },
  {
   "cell_type": "code",
   "execution_count": 9,
   "id": "f9e6117b-0966-4805-9d5f-287f7a0b0cd9",
   "metadata": {},
   "outputs": [
    {
     "data": {
      "text/plain": [
       "[['my', 'dog', 'has', 'flea', 'problems', 'help', 'please'],\n",
       " ['maybe', 'not', 'take', 'him', 'to', 'dog', 'park', 'stupid'],\n",
       " ['my', 'dalmation', 'is', 'so', 'cute', 'I', 'love', 'him'],\n",
       " ['stop', 'posting', 'stupid', 'worthless', 'garbage'],\n",
       " ['mr', 'licks', 'ate', 'my', 'steak', 'how', 'to', 'stop', 'him'],\n",
       " ['quit', 'buying', 'worthless', 'dog', 'food', 'stupid']]"
      ]
     },
     "execution_count": 48,
     "metadata": {},
     "output_type": "execute_result"
    }
   ],
   "source": [
    "postingList"
   ]
  },
  {
   "cell_type": "code",
   "execution_count": 56,
   "id": "bdc3979a-582b-4c98-bf98-67d05a41b4fb",
   "metadata": {},
   "outputs": [],
   "source": [
    "def createVocabList(dataSet):\n",
    "    vocab_set = []\n",
    "    for post in dataSet:\n",
    "        vocab_set += post\n",
    "    return list(set(vocab_set))"
   ]
  },
  {
   "cell_type": "code",
   "execution_count": 57,
   "id": "008e6b37-5274-41e7-9c4c-f005a635f1e7",
   "metadata": {},
   "outputs": [
    {
     "data": {
      "text/plain": [
       "[0, 1, 0, 1, 0, 1]"
      ]
     },
     "execution_count": 57,
     "metadata": {},
     "output_type": "execute_result"
    }
   ],
   "source": [
    "classVec"
   ]
  },
  {
   "cell_type": "code",
   "execution_count": 58,
   "id": "14b1e817-4e30-4eac-a8ea-c61e3fb95b20",
   "metadata": {
    "collapsed": true,
    "jupyter": {
     "outputs_hidden": true
    },
    "tags": []
   },
   "outputs": [
    {
     "data": {
      "text/plain": [
       "['my',\n",
       " 'him',\n",
       " 'food',\n",
       " 'problems',\n",
       " 'posting',\n",
       " 'I',\n",
       " 'to',\n",
       " 'stop',\n",
       " 'please',\n",
       " 'love',\n",
       " 'dalmation',\n",
       " 'cute',\n",
       " 'is',\n",
       " 'park',\n",
       " 'help',\n",
       " 'garbage',\n",
       " 'stupid',\n",
       " 'steak',\n",
       " 'flea',\n",
       " 'dog',\n",
       " 'maybe',\n",
       " 'ate',\n",
       " 'how',\n",
       " 'quit',\n",
       " 'take',\n",
       " 'worthless',\n",
       " 'mr',\n",
       " 'has',\n",
       " 'not',\n",
       " 'licks',\n",
       " 'so',\n",
       " 'buying']"
      ]
     },
     "execution_count": 58,
     "metadata": {},
     "output_type": "execute_result"
    }
   ],
   "source": [
    "vocabList = createVocabList(postingList)\n",
    "vocabList"
   ]
  },
  {
   "cell_type": "code",
   "execution_count": 72,
   "id": "9d6d3397-2d43-4bc6-8ef6-b4024c63450c",
   "metadata": {},
   "outputs": [],
   "source": [
    "def setOfWords2Vec(vocabList, inputSet):\n",
    "    returnVec = [0]*len(vocabList)\n",
    "    for word in inputSet:\n",
    "        if word in vocabList:\n",
    "            returnVec[vocabList.index(word)] = 1\n",
    "    return returnVec"
   ]
  },
  {
   "cell_type": "code",
   "execution_count": 74,
   "id": "83d91632-0f37-4bbe-88a8-ccc9d572bbc8",
   "metadata": {},
   "outputs": [
    {
     "data": {
      "text/plain": [
       "[1,\n",
       " 0,\n",
       " 0,\n",
       " 1,\n",
       " 0,\n",
       " 0,\n",
       " 0,\n",
       " 0,\n",
       " 1,\n",
       " 0,\n",
       " 0,\n",
       " 0,\n",
       " 0,\n",
       " 0,\n",
       " 1,\n",
       " 0,\n",
       " 0,\n",
       " 0,\n",
       " 1,\n",
       " 1,\n",
       " 0,\n",
       " 0,\n",
       " 0,\n",
       " 0,\n",
       " 0,\n",
       " 0,\n",
       " 0,\n",
       " 1,\n",
       " 0,\n",
       " 0,\n",
       " 0,\n",
       " 0]"
      ]
     },
     "execution_count": 74,
     "metadata": {},
     "output_type": "execute_result"
    }
   ],
   "source": [
    "setOfWords2Vec(vocabList, postingList[2])"
   ]
  },
  {
   "cell_type": "code",
   "execution_count": null,
   "id": "5752c0ed-8077-4ac3-b3d8-91b684a1d1df",
   "metadata": {},
   "outputs": [],
   "source": []
  }
 ],
 "metadata": {
  "kernelspec": {
   "display_name": "Python 3 (ipykernel)",
   "language": "python",
   "name": "python3"
  },
  "language_info": {
   "codemirror_mode": {
    "name": "ipython",
    "version": 3
   },
   "file_extension": ".py",
   "mimetype": "text/x-python",
   "name": "python",
   "nbconvert_exporter": "python",
   "pygments_lexer": "ipython3",
   "version": "3.9.13"
  }
 },
 "nbformat": 4,
 "nbformat_minor": 5
}
