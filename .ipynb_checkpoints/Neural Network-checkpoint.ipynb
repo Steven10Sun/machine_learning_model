{
 "cells": [
  {
   "cell_type": "markdown",
   "id": "e2289c00-c78f-4b01-a64e-0a43ef5687b6",
   "metadata": {},
   "source": [
    "# Neural Network"
   ]
  },
  {
   "cell_type": "markdown",
   "id": "c273e808-a840-4837-9f2b-12f5b0bffc44",
   "metadata": {},
   "source": [
    "### Forward propagation\n",
    "$x_i$ = input layer<br>\n",
    "$w_i$ = weights<br>\n",
    "$b$ = bias<br>\n",
    "$z$ = hidden layer<br>\n",
    "$f(z)$ = activation<br>\n",
    "\n",
    "$z = \\sum\\limits_{i=1}^{n}x_iw_i + b$<br>\n",
    "Given Sigmoid as activation function: $f(H) = \\frac{1}{1+e^{-z}}$\n",
    "\n",
    "**Remark**<br>\n",
    "$w_i$ for b is 1<br>\n",
    "Which activation function to choose depends on the prediction output: number/category<br>\n",
    "If numerical output, MSE loss function will be used, reLU, linear(Identity) activation will be used.<br>\n",
    "If categorical output, cross entropy loss function will be used, sigmoid, tanh, softmax (non linear) activation function will be used.\n",
    "\n",
    "\n",
    "\n",
    "### Back propagation\n",
    "incrementally tweaking the network’s weights until the lowest possible cost value is obtained.\n",
    "\n",
    "### Partial derivative for $w_i$: $\\frac{\\partial C}{\\partial w_i} = \\frac{\\partial C}{\\partial \\hat{y}} * \\frac{\\partial \\hat{y}}{\\partial z} * \\frac{\\partial z}{\\partial w_i}$\n",
    "\n",
    "1. $\\frac{\\partial C}{\\partial \\hat{y}} = \\frac{\\partial}{\\partial \\hat{y}}\\frac{1}{n}\\sum\\limits_{i=1}^{n}(y_i-\\hat{y_i})^2 = \\frac{2}{n}\\sum\\limits_{1=1}^{n}(y_i-\\hat{y_i})$\n",
    "\n",
    "2. Given $\\sigma$ = Sigmoid function (different activation function has different derivative below)\n",
    "\n",
    "3. $\\frac{\\partial \\hat{y}}{\\partial z} = \\frac{\\partial}{\\partial z}\\sigma(z) = \\sigma(z) * (1-\\sigma(z)) $\n",
    "\n",
    "4. $\\frac{\\partial z}{\\partial w_i} = \\frac{\\partial}{\\partial w_i}\\sum\\limits_{i=1}^{n}x_iw_i+b = x_i$\n",
    "\n",
    "### $\\frac{\\partial C}{\\partial w_i} = \\frac{2}{n} * \\sum\\limits_{i=1}^{n}(y_i - \\hat{y_i}) * \\sigma(z) * (1-\\sigma(z)) * x_i$\n",
    "\n",
    "### Partial derivative for $b$\n",
    "### $\\frac{\\partial C}{\\partial b} = \\frac{2}{n} * \\sum\\limits_{i=1}^{n}(y_i-\\hat{y_i}) * \\sigma(z) * (1-\\sigma(z))$"
   ]
  },
  {
   "cell_type": "markdown",
   "id": "721c2a1f-a631-4637-930e-f09d6dc7b484",
   "metadata": {},
   "source": [
    "# Cost Function\n",
    "##### MSE = $\\frac{1}{n}\\sum\\limits_{i=1}^{n}(y_i - \\hat{y_i})^2$\n",
    "\n",
    "##### Cross entropy = Sigmoid, etc"
   ]
  },
  {
   "cell_type": "markdown",
   "id": "b597659c-49a8-45d6-a98e-907cddcb5f49",
   "metadata": {},
   "source": [
    "### learning algorithm\n",
    "1. Start with values (often random) for the network parameters (wij weights and bj biases).\n",
    "2. Take a set of examples of input data and pass them through the network to obtain their prediction.\n",
    "3. Compare these predictions obtained with the values of expected labels and calculate the loss with them.\n",
    "4. Perform the backpropagation in order to propagate this loss to each and every one of the parameters that make up the model of the neural network.\n",
    "5. Use this propagated information to update the parameters of the neural network with the gradient descent in a way that the total loss is reduced and a better model is obtained.\n",
    "6. Continue iterating in the previous steps until we consider that we have a good model."
   ]
  },
  {
   "cell_type": "code",
   "execution_count": 15,
   "id": "980ee795-30a8-4d29-b4ce-3ec3a8a00d0e",
   "metadata": {},
   "outputs": [],
   "source": [
    "import numpy as np\n",
    "import matplotlib.pyplot as plt\n",
    "import pandas as pd\n",
    "np.set_printoptions(suppress=True)\n",
    "from sklearn.datasets import make_moons\n",
    "import seaborn as sns"
   ]
  },
  {
   "cell_type": "code",
   "execution_count": 16,
   "id": "83af6fb0-2bab-4f7b-a08e-733c3662f8ee",
   "metadata": {},
   "outputs": [],
   "source": [
    "X, y = make_moons()"
   ]
  },
  {
   "cell_type": "code",
   "execution_count": 17,
   "id": "654f89f4-67b9-42fb-9afb-0d1b2c3b8e10",
   "metadata": {},
   "outputs": [
    {
     "data": {
      "text/plain": [
       "<AxesSubplot:>"
      ]
     },
     "execution_count": 17,
     "metadata": {},
     "output_type": "execute_result"
    },
    {
     "data": {
      "image/png": "[encoded data removed]",
      "text/plain": [
       "<Figure size 432x288 with 1 Axes>"
      ]
     },
     "metadata": {
      "needs_background": "light"
     },
     "output_type": "display_data"
    }
   ],
   "source": [
    "sns.scatterplot(x=X[:, 0], y=X[:, 1], hue=y)"
   ]
  },
  {
   "cell_type": "markdown",
   "id": "822fedae-62a8-4593-93fa-605c2669cf81",
   "metadata": {
    "tags": []
   },
   "source": [
    "### Activation function"
   ]
  },
  {
   "cell_type": "code",
   "execution_count": 51,
   "id": "ca83a305-904a-4ae3-b316-8e35317f14cc",
   "metadata": {},
   "outputs": [],
   "source": [
    "def linear(z):\n",
    "    return z\n",
    "\n",
    "def sigmoid(z):\n",
    "    return 1 / (1+np.exp(-z))\n",
    "\n",
    "def tanh(z):\n",
    "    pass\n",
    "\n",
    "def softmax(X):\n",
    "    pass\n",
    "\n",
    "def relu(z):\n",
    "    return max(0, z)"
   ]
  },
  {
   "cell_type": "markdown",
   "id": "77c5c7bf-7b86-436b-bef3-d2ca79b2fdeb",
   "metadata": {},
   "source": [
    "### Activation"
   ]
  },
  {
   "cell_type": "code",
   "execution_count": 211,
   "id": "e2bfaeef-5cc5-4fbe-9794-db2625cdefdb",
   "metadata": {},
   "outputs": [],
   "source": [
    "def Dense(a_in, W, b):  \n",
    "    z = a_in @ W + b\n",
    "    a_out = sigmoid(z)\n",
    "    return a_out"
   ]
  },
  {
   "cell_type": "code",
   "execution_count": 212,
   "id": "248e0937-cd3b-4ad7-adf0-42dc7b2d222f",
   "metadata": {},
   "outputs": [],
   "source": [
    "def Sequential(X, W1, b1, W2, b2, W3, b3):\n",
    "    a1 = Dense(X, W1, b1)\n",
    "    a2 = Dense(a1, W2, b2)\n",
    "    a3 = Dense(a2, W3, b3)\n",
    "    return a3"
   ]
  },
  {
   "cell_type": "markdown",
   "id": "684b81e8-2bdd-4f81-a0dc-a1d74d14aea7",
   "metadata": {
    "tags": []
   },
   "source": [
    "### Prediction"
   ]
  },
  {
   "cell_type": "code",
   "execution_count": 224,
   "id": "569b0a43-12e6-42b2-a7b6-b3889a09ce14",
   "metadata": {
    "tags": []
   },
   "outputs": [],
   "source": [
    "def Predict(X, W1, b1, W2, b2, W3, b3):    \n",
    "    output = Sequential(X, W1, b1, W2, b2, W3, b3)\n",
    "    y_hat = np.zeros_like(output)\n",
    "    for i in range(len(output)):\n",
    "        if output[i] > 0.5:\n",
    "            y_hat[i] = 1\n",
    "        else:\n",
    "            y_hat[i] = 0\n",
    "    return y_hat"
   ]
  },
  {
   "cell_type": "markdown",
   "id": "73a961b4-1e92-44f3-a602-f931465aac73",
   "metadata": {},
   "source": [
    "### Parameter"
   ]
  },
  {
   "cell_type": "code",
   "execution_count": 234,
   "id": "224974e2-039f-41f3-b504-d6057d82ecca",
   "metadata": {},
   "outputs": [
    {
     "data": {
      "text/plain": [
       "array([[0.63142989],\n",
       "       [0.46605946],\n",
       "       [0.61178624],\n",
       "       [0.48045298],\n",
       "       [0.55559227],\n",
       "       [0.49699546],\n",
       "       [0.52311207],\n",
       "       [0.7810592 ],\n",
       "       [0.54513298],\n",
       "       [0.80459292],\n",
       "       [0.64946415],\n",
       "       [0.51046605],\n",
       "       [0.70271775],\n",
       "       [0.76095447],\n",
       "       [0.6990047 ],\n",
       "       [0.49675418],\n",
       "       [0.54587215],\n",
       "       [0.76227405],\n",
       "       [0.78155729],\n",
       "       [0.77217658],\n",
       "       [0.76052122],\n",
       "       [0.45078946],\n",
       "       [0.61217281],\n",
       "       [0.54501438],\n",
       "       [0.61158299],\n",
       "       [0.82922236],\n",
       "       [0.61060115],\n",
       "       [0.61135644],\n",
       "       [0.68334821],\n",
       "       [0.78872759],\n",
       "       [0.49629691],\n",
       "       [0.76992973],\n",
       "       [0.61186681],\n",
       "       [0.85450148],\n",
       "       [0.6396181 ],\n",
       "       [0.48523998],\n",
       "       [0.66646879],\n",
       "       [0.49995536],\n",
       "       [0.63451222],\n",
       "       [0.83147635],\n",
       "       [0.62339447],\n",
       "       [0.77234763],\n",
       "       [0.54835264],\n",
       "       [0.61720442],\n",
       "       [0.63633032],\n",
       "       [0.83483846],\n",
       "       [0.8067298 ],\n",
       "       [0.69377668],\n",
       "       [0.84716056],\n",
       "       [0.67987256],\n",
       "       [0.75762803],\n",
       "       [0.66543767],\n",
       "       [0.68288615],\n",
       "       [0.76503647],\n",
       "       [0.4995018 ],\n",
       "       [0.81547491],\n",
       "       [0.80951045],\n",
       "       [0.79237695],\n",
       "       [0.73613268],\n",
       "       [0.83484805],\n",
       "       [0.73045844],\n",
       "       [0.8066449 ],\n",
       "       [0.67637065],\n",
       "       [0.82916561],\n",
       "       [0.80673179],\n",
       "       [0.79090899],\n",
       "       [0.80950311],\n",
       "       [0.80401988],\n",
       "       [0.76583096],\n",
       "       [0.68823352],\n",
       "       [0.7713126 ],\n",
       "       [0.64971297],\n",
       "       [0.47942611],\n",
       "       [0.8512274 ],\n",
       "       [0.54811475],\n",
       "       [0.83484065],\n",
       "       [0.79332372],\n",
       "       [0.82630148],\n",
       "       [0.71477923],\n",
       "       [0.69820218],\n",
       "       [0.56566412],\n",
       "       [0.44983735],\n",
       "       [0.7726428 ],\n",
       "       [0.68268743],\n",
       "       [0.73479318],\n",
       "       [0.50106509],\n",
       "       [0.56175167],\n",
       "       [0.66855926],\n",
       "       [0.68327893],\n",
       "       [0.83494887],\n",
       "       [0.67259982],\n",
       "       [0.76335534],\n",
       "       [0.64065676],\n",
       "       [0.56169551],\n",
       "       [0.49677372],\n",
       "       [0.69047658],\n",
       "       [0.74581154],\n",
       "       [0.81400327],\n",
       "       [0.61339505],\n",
       "       [0.83493297]])"
      ]
     },
     "execution_count": 268,
     "metadata": {},
     "output_type": "execute_result"
    }
   ],
   "source": [
    "# 2 layers\n",
    "# 4 nodes\n",
    "X = np.random.uniform(-3, 3, size=(100, 10))\n",
    "W1 = np.random.uniform(-3, 3, size=(10, 4))\n",
    "b1 = np.random.uniform(-3, 3, size=(4))\n",
    "W2 = np.random.uniform(-3, 3, size=(4, 4))\n",
    "b2 = np.random.uniform(-3, 3, size=(4))\n",
    "W3 = np.random.uniform(-3, 3, size=(4, 1))\n",
    "b3 = np.random.uniform(-3, 3, size=(1))\n",
    "Predict(X,W1,b1,W2,b2,W3,b3)"
   ]
  },
  {
   "cell_type": "code",
   "execution_count": null,
   "id": "031c4161-5156-488d-86c6-95941c8e54b7",
   "metadata": {},
   "outputs": [],
   "source": [
    "df = pd.read_csv('housepricedata.csv')\n",
    "dataset = df.values\n",
    "X = dataset[:, :-1]\n",
    "y = dataset[:, -1]\n",
    "df.head()"
   ]
  }
 ],
 "metadata": {
  "kernelspec": {
   "display_name": "Python 3 (ipykernel)",
   "language": "python",
   "name": "python3"
  },
  "language_info": {
   "codemirror_mode": {
    "name": "ipython",
    "version": 3
   },
   "file_extension": ".py",
   "mimetype": "text/x-python",
   "name": "python",
   "nbconvert_exporter": "python",
   "pygments_lexer": "ipython3",
   "version": "3.9.13"
  }
 },
 "nbformat": 4,
 "nbformat_minor": 5
}
