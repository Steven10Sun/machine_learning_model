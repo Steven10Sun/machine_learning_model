{
 "cells": [
  {
   "cell_type": "markdown",
   "id": "248cbd58-4e56-45c1-b948-8fe1ad66f048",
   "metadata": {},
   "source": [
    "### Perceptron\n",
    "The most basic form of a feed forward neural network. It is designed as a decision function for receiving inputs to produce a binary output.\n",
    "\n",
    "### alternative \n",
    "sigmoid neuron <br>\n",
    "hyperbolic tangent function\n",
    "\n",
    "Each node in the hidden layer represents a function, such as a sigmoid function, but with its own unique weights/hyperparameters. <br>\n",
    "This means that each input variable, in effect, is exposed to five different functions. <br>\n",
    "Simultaneously, the hidden layer nodes are exposed to all four features.\n",
    "\n",
    "The final output layer for this model consists of two discrete outcomes"
   ]
  },
  {
   "cell_type": "markdown",
   "id": "c273e808-a840-4837-9f2b-12f5b0bffc44",
   "metadata": {},
   "source": [
    "### back-propagation\n",
    "incrementally tweaking the network’s weights until the lowest possible cost value is obtained."
   ]
  }
 ],
 "metadata": {
  "kernelspec": {
   "display_name": "Python 3 (ipykernel)",
   "language": "python",
   "name": "python3"
  },
  "language_info": {
   "codemirror_mode": {
    "name": "ipython",
    "version": 3
   },
   "file_extension": ".py",
   "mimetype": "text/x-python",
   "name": "python",
   "nbconvert_exporter": "python",
   "pygments_lexer": "ipython3",
   "version": "3.10.7"
  }
 },
 "nbformat": 4,
 "nbformat_minor": 5
}
