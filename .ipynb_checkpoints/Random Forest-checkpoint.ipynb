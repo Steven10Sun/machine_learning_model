{
 "cells": [
  {
   "cell_type": "markdown",
   "id": "e0bd96d8-b719-4e7d-ab6e-8be47d33f7c8",
   "metadata": {},
   "source": [
    "# Random Forest"
   ]
  },
  {
   "cell_type": "markdown",
   "id": "cf264c41-556c-41fa-ad83-eecfa2a993e1",
   "metadata": {},
   "source": [
    "### Why need random forest even there is decision tree\n",
    "Decision tree is sensitive to data. If the data change a bit, the whole tree will be changed. It will cause high variance. <br>\n",
    "Random forest can reduce the sensitivity of the result to from changing data and reduce variance\n",
    "\n",
    "### Create a bootstrapped dataset\n",
    "Randomly select data entities from dataset with replacement. Data size == original data size <br>\n",
    "Randomly select a few of feature variables. <br>\n",
    "But how many features is the best? <br>\n",
    "k = $\\sqrt(n)$ for classification <br>\n",
    "k = $\\frac{n}{3}$ for regression <br>\n",
    "Given n is the total number of features\n",
    "\n",
    "### Vallidation: Out-of-bag Error\n",
    "Formula: the number of correctly predicted rows / total out of bag samples\n",
    "\n",
    "### Steps\n",
    "1. use a bootstrapped dataset\n",
    "2. build a tree\n",
    "3. Estimate the accuracy of a random forest: change the number of variables\n",
    "4. repeat step 1 & 2 & 3 many times\n",
    "\n",
    "Then, there are a lot of different trees <br>\n",
    "Input new data into all the tree and see the result of each tree <br>\n",
    "The result with the **most votes** will be the predicted output of the new data\n",
    "\n",
    "### Bagging (Bootstrapping + aggregating)\n",
    "Bootstrapping: random sampling with replacement <br>\n",
    "Aggregating: value count the target result with all the tree and select the result with majority of voting\n"
   ]
  },
  {
   "cell_type": "code",
   "execution_count": null,
   "id": "936b9160-70ca-4552-8b11-22eafad67907",
   "metadata": {},
   "outputs": [],
   "source": []
  }
 ],
 "metadata": {
  "kernelspec": {
   "display_name": "Python 3 (ipykernel)",
   "language": "python",
   "name": "python3"
  },
  "language_info": {
   "codemirror_mode": {
    "name": "ipython",
    "version": 3
   },
   "file_extension": ".py",
   "mimetype": "text/x-python",
   "name": "python",
   "nbconvert_exporter": "python",
   "pygments_lexer": "ipython3",
   "version": "3.9.13"
  }
 },
 "nbformat": 4,
 "nbformat_minor": 5
}
