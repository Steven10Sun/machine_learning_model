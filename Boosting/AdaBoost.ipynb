{
 "cells": [
  {
   "cell_type": "markdown",
   "id": "fdfd9b92-6dcd-4597-bb6f-6fbe68e88a03",
   "metadata": {},
   "source": [
    "# Adaptive Boosting (Adaboost)"
   ]
  },
  {
   "cell_type": "markdown",
   "id": "addfe237-81cc-4146-ac40-1e109c747ae1",
   "metadata": {},
   "source": [
    "Adaboost is an ensemble learning method that combine multiple weak classifiers **(Stump)** to build one strong classifier. It is to iteratively train a sequence of stumps, each of which **focus on misclassified instance** classified by previous stump\n",
    "\n",
    "**Step 1: Assign a sample weight for each sample <br>**\n",
    "sample weight = $\\frac{1}{N}$ <br>\n",
    "\n",
    "**Step 2: Do a boostrap aggregating (bagging)**\n",
    "\n",
    "**Step 3: Calculate the Gini Impurity for each variable <br>**\n",
    "Gini Impurity for a Leaf = 1 - [\\(probability of 'Yes'\\)$^2$ + \\(probability of 'No'\\)$^2$] : $Gini=1 - \\sum\\limits_{i-1}^{n}(p_i)^2$ <br>\n",
    "The variable with **lowest** Gini Impurity will be used to split the data\n",
    "\n",
    "**Step 4: Build the stump** <br>\n",
    "Use the variable with **lowest** Gini Impurity to build a stump\n",
    "\n",
    "**Step 5: Use the stump to predict the train data** <br>\n",
    "calcuate the total error which is the **sum of weights of incorrectly** classified samples <br>\n",
    "total error = $\\sum weights$\n",
    "\n",
    "**Step 6: Calculate the Amount of say of each stump** <br>\n",
    "It is the importance / weight of a stump <br>\n",
    "***this weight is the importance of stump which is different from the sample weight assigned initially <br>\n",
    "_Amount of say_ = $\\frac{1}{2} \\log(\\frac{1 - \\text{total error}}{\\text{total error}})$ <br>\n",
    "_The higher, the more important_\n",
    "\n",
    "**Step 7: Update the sample weights** <br>\n",
    "$\\text{Incorrect sample} = \\text{Sample weight} * e^{\\text{amount of say}}$ <br>\n",
    "$\\text{Correct sample} = \\text{Sample weight} * e^{-\\text{amount of say}}$\n",
    "\n",
    "Remember to normalize the sample weights since the sum up is not equal to 1 <br>\n",
    "$\\text{normalized sample weight} = \\frac{\\text{updated sample weight}}{\\sum\\text{updated sample weight}}$\n",
    "\n",
    "**Step 7: Repeat 2 - 7 N times until enough stump** <br>"
   ]
  },
  {
   "cell_type": "code",
   "execution_count": 275,
   "id": "8f667085-a941-4260-a35b-bae962f06c03",
   "metadata": {},
   "outputs": [],
   "source": [
    "from copy import deepcopy\n",
    "from sklearn.datasets import load_breast_cancer\n",
    "from sklearn.tree import DecisionTreeClassifier\n",
    "from sklearn import metrics\n",
    "import numpy as np\n",
    "bc = load_breast_cancer()\n",
    "train_size = 400\n",
    "train_x, train_y = bc.data[:train_size], bc.target[:train_size]\n",
    "test_x, test_y = bc.data[train_size:], bc.target[train_size:]\n",
    "np.random.seed(123456)"
   ]
  },
  {
   "cell_type": "code",
   "execution_count": 276,
   "id": "f5426264-7126-497a-84f6-39285d0bafe0",
   "metadata": {},
   "outputs": [],
   "source": [
    "ensemble_size = 100\n",
    "base_classifier = DecisionTreeClassifier(max_depth = 1)\n",
    "\n",
    "indices = [x for x in range(train_size)]\n",
    "base_learners = []\n",
    "\n",
    "data_weights = np.zeros(train_size) + 1/train_size\n",
    "learner_weights = np.zeros(ensemble_size)\n",
    "learners_errors = np.zeros(ensemble_size)"
   ]
  },
  {
   "cell_type": "code",
   "execution_count": 277,
   "id": "57e1753d-c8ab-4659-b1ce-56002ba4a88b",
   "metadata": {
    "scrolled": true
   },
   "outputs": [],
   "source": [
    "for i in range(ensemble_size):\n",
    "    weak_learner = deepcopy(base_classifier)\n",
    "    data_indices = np.random.choice(400, 400, p=data_weights)\n",
    "    sample_x, sample_y = train_x[data_indices], train_y[data_indices]\n",
    "    \n",
    "    weak_learner.fit(sample_x, sample_y)\n",
    "    predictions = weak_learner.predict(train_x)\n",
    "    errors = predictions != train_y\n",
    "    corrects = predictions == train_y\n",
    "    \n",
    "    base_learners.append(weak_learner)\n",
    "    \n",
    "    # calculate the leaner's amount of say\n",
    "    weighted_error = data_weights * errors\n",
    "    learner_error = np.sum(weighted_error)\n",
    "    learner_weight = np.log((1 - leaner_error) / learner_error) / 2\n",
    "    \n",
    "    #save amount of say and learner error into the learner list\n",
    "    learners_errors[i] = learner_error\n",
    "    learner_weights[i] = learner_weight\n",
    "    \n",
    "    data_weights[errors] = np.exp(data_weights[errors] * learner_weight)\n",
    "    data_weights[corrects] = np.exp(-data_weights[corrects] * learner_weight)\n",
    "    data_weights = data_weights / sum(data_weights)\n"
   ]
  },
  {
   "cell_type": "code",
   "execution_count": 278,
   "id": "6dfa08c7-2513-4088-9393-7f09a9e72337",
   "metadata": {},
   "outputs": [],
   "source": [
    "ensemble_predictions = []\n",
    "for learner, weight in zip(base_learners, learner_weights):\n",
    "    prediction = learner.predict(test_x)\n",
    "    ensemble_predictions.append(prediction * weight)"
   ]
  },
  {
   "cell_type": "code",
   "execution_count": 279,
   "id": "85b0105d-c5f9-4bf9-ac5f-9cda44dee40d",
   "metadata": {},
   "outputs": [],
   "source": [
    "ensemble_predictions = np.mean(ensemble_predictions, axis=0) >= 0.5\n",
    "ensemble_acc = metrics.accuracy_score(test_y, ensemble_predictions)"
   ]
  },
  {
   "cell_type": "code",
   "execution_count": 280,
   "id": "fc058da9-f1ae-4161-b167-e15788ee94a5",
   "metadata": {},
   "outputs": [
    {
     "data": {
      "text/plain": [
       "0.9112426035502958"
      ]
     },
     "execution_count": 280,
     "metadata": {},
     "output_type": "execute_result"
    }
   ],
   "source": [
    "ensemble_acc"
   ]
  },
  {
   "cell_type": "markdown",
   "id": "5e53a6b5-fe96-4fc3-8767-25f1a1fb5905",
   "metadata": {},
   "source": [
    "### sklearn"
   ]
  },
  {
   "cell_type": "code",
   "execution_count": 281,
   "id": "cdcc80a3-32ab-443a-9016-307535b6464e",
   "metadata": {},
   "outputs": [],
   "source": [
    "import numpy as np\n",
    "from sklearn.datasets import load_digits\n",
    "from sklearn.tree import DecisionTreeClassifier\n",
    "from sklearn.ensemble import AdaBoostClassifier\n",
    "from sklearn import metrics"
   ]
  },
  {
   "cell_type": "code",
   "execution_count": 282,
   "id": "90d4c41f-c472-400d-a0b8-41eeb6ba390c",
   "metadata": {},
   "outputs": [],
   "source": [
    "digits = load_digits()\n",
    "train_size = 1500\n",
    "train_x = digits.data[:train_size]\n",
    "train_y = digits.target[:train_size]\n",
    "test_x = digits.data[train_size:]\n",
    "test_y = digits.target[train_size:]\n",
    "np.random.seed(123456)"
   ]
  },
  {
   "cell_type": "code",
   "execution_count": 283,
   "id": "f5952eb0-af7f-46de-8ffd-038131a2a83c",
   "metadata": {},
   "outputs": [],
   "source": [
    "ensemble_size = 1000\n",
    "ensemble = AdaBoostClassifier(DecisionTreeClassifier(max_depth = 1), \n",
    "                              algorithm = 'SAMME', \n",
    "                              n_estimators = ensemble_size)"
   ]
  },
  {
   "cell_type": "code",
   "execution_count": 284,
   "id": "be5c2bdc-26e5-4276-a0a0-badbe20442de",
   "metadata": {},
   "outputs": [
    {
     "data": {
      "text/html": [
       "<style>#sk-container-id-1 {color: black;background-color: white;}#sk-container-id-1 pre{padding: 0;}#sk-container-id-1 div.sk-toggleable {background-color: white;}#sk-container-id-1 label.sk-toggleable__label {cursor: pointer;display: block;width: 100%;margin-bottom: 0;padding: 0.3em;box-sizing: border-box;text-align: center;}#sk-container-id-1 label.sk-toggleable__label-arrow:before {content: \"▸\";float: left;margin-right: 0.25em;color: #696969;}#sk-container-id-1 label.sk-toggleable__label-arrow:hover:before {color: black;}#sk-container-id-1 div.sk-estimator:hover label.sk-toggleable__label-arrow:before {color: black;}#sk-container-id-1 div.sk-toggleable__content {max-height: 0;max-width: 0;overflow: hidden;text-align: left;background-color: #f0f8ff;}#sk-container-id-1 div.sk-toggleable__content pre {margin: 0.2em;color: black;border-radius: 0.25em;background-color: #f0f8ff;}#sk-container-id-1 input.sk-toggleable__control:checked~div.sk-toggleable__content {max-height: 200px;max-width: 100%;overflow: auto;}#sk-container-id-1 input.sk-toggleable__control:checked~label.sk-toggleable__label-arrow:before {content: \"▾\";}#sk-container-id-1 div.sk-estimator input.sk-toggleable__control:checked~label.sk-toggleable__label {background-color: #d4ebff;}#sk-container-id-1 div.sk-label input.sk-toggleable__control:checked~label.sk-toggleable__label {background-color: #d4ebff;}#sk-container-id-1 input.sk-hidden--visually {border: 0;clip: rect(1px 1px 1px 1px);clip: rect(1px, 1px, 1px, 1px);height: 1px;margin: -1px;overflow: hidden;padding: 0;position: absolute;width: 1px;}#sk-container-id-1 div.sk-estimator {font-family: monospace;background-color: #f0f8ff;border: 1px dotted black;border-radius: 0.25em;box-sizing: border-box;margin-bottom: 0.5em;}#sk-container-id-1 div.sk-estimator:hover {background-color: #d4ebff;}#sk-container-id-1 div.sk-parallel-item::after {content: \"\";width: 100%;border-bottom: 1px solid gray;flex-grow: 1;}#sk-container-id-1 div.sk-label:hover label.sk-toggleable__label {background-color: #d4ebff;}#sk-container-id-1 div.sk-serial::before {content: \"\";position: absolute;border-left: 1px solid gray;box-sizing: border-box;top: 0;bottom: 0;left: 50%;z-index: 0;}#sk-container-id-1 div.sk-serial {display: flex;flex-direction: column;align-items: center;background-color: white;padding-right: 0.2em;padding-left: 0.2em;position: relative;}#sk-container-id-1 div.sk-item {position: relative;z-index: 1;}#sk-container-id-1 div.sk-parallel {display: flex;align-items: stretch;justify-content: center;background-color: white;position: relative;}#sk-container-id-1 div.sk-item::before, #sk-container-id-1 div.sk-parallel-item::before {content: \"\";position: absolute;border-left: 1px solid gray;box-sizing: border-box;top: 0;bottom: 0;left: 50%;z-index: -1;}#sk-container-id-1 div.sk-parallel-item {display: flex;flex-direction: column;z-index: 1;position: relative;background-color: white;}#sk-container-id-1 div.sk-parallel-item:first-child::after {align-self: flex-end;width: 50%;}#sk-container-id-1 div.sk-parallel-item:last-child::after {align-self: flex-start;width: 50%;}#sk-container-id-1 div.sk-parallel-item:only-child::after {width: 0;}#sk-container-id-1 div.sk-dashed-wrapped {border: 1px dashed gray;margin: 0 0.4em 0.5em 0.4em;box-sizing: border-box;padding-bottom: 0.4em;background-color: white;}#sk-container-id-1 div.sk-label label {font-family: monospace;font-weight: bold;display: inline-block;line-height: 1.2em;}#sk-container-id-1 div.sk-label-container {text-align: center;}#sk-container-id-1 div.sk-container {/* jupyter's `normalize.less` sets `[hidden] { display: none; }` but bootstrap.min.css set `[hidden] { display: none !important; }` so we also need the `!important` here to be able to override the default hidden behavior on the sphinx rendered scikit-learn.org. See: https://github.com/scikit-learn/scikit-learn/issues/21755 */display: inline-block !important;position: relative;}#sk-container-id-1 div.sk-text-repr-fallback {display: none;}</style><div id=\"sk-container-id-1\" class=\"sk-top-container\"><div class=\"sk-text-repr-fallback\"><pre>AdaBoostClassifier(algorithm=&#x27;SAMME&#x27;,\n",
       "                   estimator=DecisionTreeClassifier(max_depth=1),\n",
       "                   n_estimators=1000)</pre><b>In a Jupyter environment, please rerun this cell to show the HTML representation or trust the notebook. <br />On GitHub, the HTML representation is unable to render, please try loading this page with nbviewer.org.</b></div><div class=\"sk-container\" hidden><div class=\"sk-item sk-dashed-wrapped\"><div class=\"sk-label-container\"><div class=\"sk-label sk-toggleable\"><input class=\"sk-toggleable__control sk-hidden--visually\" id=\"sk-estimator-id-1\" type=\"checkbox\" ><label for=\"sk-estimator-id-1\" class=\"sk-toggleable__label sk-toggleable__label-arrow\">AdaBoostClassifier</label><div class=\"sk-toggleable__content\"><pre>AdaBoostClassifier(algorithm=&#x27;SAMME&#x27;,\n",
       "                   estimator=DecisionTreeClassifier(max_depth=1),\n",
       "                   n_estimators=1000)</pre></div></div></div><div class=\"sk-parallel\"><div class=\"sk-parallel-item\"><div class=\"sk-item\"><div class=\"sk-label-container\"><div class=\"sk-label sk-toggleable\"><input class=\"sk-toggleable__control sk-hidden--visually\" id=\"sk-estimator-id-2\" type=\"checkbox\" ><label for=\"sk-estimator-id-2\" class=\"sk-toggleable__label sk-toggleable__label-arrow\">estimator: DecisionTreeClassifier</label><div class=\"sk-toggleable__content\"><pre>DecisionTreeClassifier(max_depth=1)</pre></div></div></div><div class=\"sk-serial\"><div class=\"sk-item\"><div class=\"sk-estimator sk-toggleable\"><input class=\"sk-toggleable__control sk-hidden--visually\" id=\"sk-estimator-id-3\" type=\"checkbox\" ><label for=\"sk-estimator-id-3\" class=\"sk-toggleable__label sk-toggleable__label-arrow\">DecisionTreeClassifier</label><div class=\"sk-toggleable__content\"><pre>DecisionTreeClassifier(max_depth=1)</pre></div></div></div></div></div></div></div></div></div></div>"
      ],
      "text/plain": [
       "AdaBoostClassifier(algorithm='SAMME',\n",
       "                   estimator=DecisionTreeClassifier(max_depth=1),\n",
       "                   n_estimators=1000)"
      ]
     },
     "execution_count": 284,
     "metadata": {},
     "output_type": "execute_result"
    }
   ],
   "source": [
    "ensemble.fit(train_x, train_y)"
   ]
  },
  {
   "cell_type": "code",
   "execution_count": 285,
   "id": "9c80f7fe-9478-40cb-87c7-7d8b860a9709",
   "metadata": {},
   "outputs": [],
   "source": [
    "ensemble_predictions = ensemble.predict(test_x)\n",
    "ensemble_acc = metrics.accuracy_score(test_y, ensemble_predictions)"
   ]
  },
  {
   "cell_type": "code",
   "execution_count": 290,
   "id": "44f4f687-0a03-42e5-928d-29c30ddf29b9",
   "metadata": {},
   "outputs": [
    {
     "name": "stdout",
     "output_type": "stream",
     "text": [
      "AdaBoost: 0.82\n"
     ]
    }
   ],
   "source": [
    "print(f'AdaBoost: {ensemble_acc:.2f}', )"
   ]
  }
 ],
 "metadata": {
  "kernelspec": {
   "display_name": "Python 3 (ipykernel)",
   "language": "python",
   "name": "python3"
  },
  "language_info": {
   "codemirror_mode": {
    "name": "ipython",
    "version": 3
   },
   "file_extension": ".py",
   "mimetype": "text/x-python",
   "name": "python",
   "nbconvert_exporter": "python",
   "pygments_lexer": "ipython3",
   "version": "3.10.7"
  }
 },
 "nbformat": 4,
 "nbformat_minor": 5
}
