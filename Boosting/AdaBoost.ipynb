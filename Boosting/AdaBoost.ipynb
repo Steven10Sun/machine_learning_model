{
 "cells": [
  {
   "cell_type": "markdown",
   "id": "fdfd9b92-6dcd-4597-bb6f-6fbe68e88a03",
   "metadata": {},
   "source": [
    "# Adaptive Boosting (Adaboost)"
   ]
  },
  {
   "cell_type": "markdown",
   "id": "addfe237-81cc-4146-ac40-1e109c747ae1",
   "metadata": {},
   "source": [
    "Adaboost is an ensemble learning method that combine multiple weak classifiers **(Stump)** to build one strong classifier. It is to iteratively train a sequence of stumps, each of which **focus on misclassified instance** classified by previous stump\n",
    "\n",
    "**Step 1: Assign a sample weight for each sample <br>**\n",
    "sample weight = $\\frac{1}{N}$ <br>\n",
    "\n",
    "**Step 2: Do a boostrap aggregating (bagging)**\n",
    "\n",
    "**Step 3: Calculate the Gini Impurity for each variable <br>**\n",
    "Gini Impurity for a Leaf = 1 - [\\(probability of 'Yes'\\)$^2$ + \\(probability of 'No'\\)$^2$] : $Gini=1 - \\sum\\limits_{i-1}^{n}(p_i)^2$ <br>\n",
    "The variable with **lowest** Gini Impurity will be used to split the data\n",
    "\n",
    "**Step 4: Build the stump** <br>\n",
    "Use the variable with **lowest** Gini Impurity to build a stump\n",
    "\n",
    "**Step 4: Use the stump to predict the train data**\n",
    "calcuate the total error which is the sum of weights of **incorrectly** classified samples <br>\n",
    "total error = $\\sum weights$\n",
    "\n",
    "**Step 5: Calculate the Amount of say of each stump** <br>\n",
    "It is the importance / weight of a stump <br>\n",
    "***this weight is the importance of stump which is different from the sample weight assigned initially <br>\n",
    "_Amount of say_ = $\\frac{1}{2} \\log(\\frac{1 - \\text{total error}}{\\text{total error}})$ <br>\n",
    "_The higher, the more important_\n",
    "\n",
    "**Step 6: Update the sample weights** <br>\n",
    "$\\text{Incorrect sample} = \\text{Sample weight} * e^{\\text{amount of say}}$ <br>\n",
    "$\\text{Correct sample} = \\text{Sample weight} * e^{-\\text{amount of say}}$\n",
    "\n",
    "Remember to normalize the sample weights since the sum up is not equal to 1 <br>\n",
    "$\\text{normalized sample weight} = \\frac{\\text{updated sample weight}}{\\sum\\text{updated sample weight}}$\n"
   ]
  }
 ],
 "metadata": {
  "kernelspec": {
   "display_name": "Python 3 (ipykernel)",
   "language": "python",
   "name": "python3"
  },
  "language_info": {
   "codemirror_mode": {
    "name": "ipython",
    "version": 3
   },
   "file_extension": ".py",
   "mimetype": "text/x-python",
   "name": "python",
   "nbconvert_exporter": "python",
   "pygments_lexer": "ipython3",
   "version": "3.10.7"
  }
 },
 "nbformat": 4,
 "nbformat_minor": 5
}
