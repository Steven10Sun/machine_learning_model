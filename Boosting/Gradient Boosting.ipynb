{
 "cells": [
  {
   "cell_type": "markdown",
   "id": "0048b46b-302a-491e-96da-960238e43106",
   "metadata": {},
   "source": [
    "# Gradient Boosting (Regression)"
   ]
  },
  {
   "cell_type": "markdown",
   "id": "3a30e5b0-d69c-496a-9041-b63ba7f871f5",
   "metadata": {
    "jp-MarkdownHeadingCollapsed": true
   },
   "source": [
    "Ensemble method that you can create multiple weak models and combine them to get a better performance as a whole. It can used in non-linear relationship data. It builds decision tree on residual to minimize the total loss by $\\pm$ the predicted residual on previous model\n",
    "\n",
    "features = x <br>\n",
    "target = y <br>\n",
    "predicted y = $F_0 = \\overline{y}$ <br>\n",
    "\n",
    "residual = $r_i = y - F_0$ <br>\n",
    "predicted r = $\\gamma$ <br>\n",
    "\n",
    "formula: $F_1 = F_0 + v*\\gamma_1$\n",
    "\n",
    "### Gradient Boosting Algorithm\n",
    "1. Initialilze model with a constant value <br>\n",
    "$F_0(x) = \\arg\\min\\sum\\limits_{i=1}^{n}L(y_i, \\gamma) = \\overline{y}$, given $L(\\text{loss function}) = \\sum\\limits_{i=1}^{n}\\frac{1}{2}(y_i - \\gamma_i)^2$ <br>\n",
    "2. Calculate residual $r$ for each sample<br>\n",
    "$r_{im} = y - F_0(x)$ <br>\n",
    "3. fit a regression tree to $r_{im}$ values and create terminal  regions $R_{jm}$\n"
   ]
  }
 ],
 "metadata": {
  "kernelspec": {
   "display_name": "Python 3 (ipykernel)",
   "language": "python",
   "name": "python3"
  },
  "language_info": {
   "codemirror_mode": {
    "name": "ipython",
    "version": 3
   },
   "file_extension": ".py",
   "mimetype": "text/x-python",
   "name": "python",
   "nbconvert_exporter": "python",
   "pygments_lexer": "ipython3",
   "version": "3.10.7"
  }
 },
 "nbformat": 4,
 "nbformat_minor": 5
}
